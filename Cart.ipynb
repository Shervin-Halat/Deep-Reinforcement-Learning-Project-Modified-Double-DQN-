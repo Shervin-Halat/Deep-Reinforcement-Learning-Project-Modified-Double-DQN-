{
  "nbformat": 4,
  "nbformat_minor": 0,
  "metadata": {
    "colab": {
      "provenance": [],
      "collapsed_sections": []
    },
    "kernelspec": {
      "name": "python3",
      "display_name": "Python 3"
    },
    "language_info": {
      "name": "python"
    },
    "accelerator": "GPU"
  },
  "cells": [
    {
      "cell_type": "code",
      "metadata": {
        "id": "1XDvssQd64Pf"
      },
      "source": [
        "!apt-get install -y xvfb python-opengl > /dev/null 2>&1"
      ],
      "execution_count": null,
      "outputs": []
    },
    {
      "cell_type": "code",
      "metadata": {
        "id": "F5esgX013vPe"
      },
      "source": [
        "!pip install gym pyvirtualdisplay > /dev/null 2>&1"
      ],
      "execution_count": null,
      "outputs": []
    },
    {
      "cell_type": "code",
      "metadata": {
        "id": "Qbi2xaFo31Sj"
      },
      "source": [
        "import gym\n",
        "import numpy as np\n",
        "import matplotlib.pyplot as plt\n",
        "from IPython import display as ipythondisplay"
      ],
      "execution_count": null,
      "outputs": []
    },
    {
      "cell_type": "code",
      "metadata": {
        "id": "FGqXqJxoAsHG",
        "colab": {
          "base_uri": "https://localhost:8080/"
        },
        "outputId": "fa6203d8-2243-42f5-d042-e613c03dc639"
      },
      "source": [
        "from pyvirtualdisplay import Display\n",
        "display = Display(visible=0, size=(400, 300))\n",
        "display.start()"
      ],
      "execution_count": null,
      "outputs": [
        {
          "output_type": "execute_result",
          "data": {
            "text/plain": [
              "<pyvirtualdisplay.display.Display at 0x7ff171ff9f90>"
            ]
          },
          "metadata": {
            "tags": []
          },
          "execution_count": 4
        }
      ]
    },
    {
      "cell_type": "code",
      "metadata": {
        "id": "ZAZQXOE_ZhR5"
      },
      "source": [
        "%matplotlib inline\n",
        "import gym\n",
        "import math\n",
        "import random\n",
        "import numpy as np\n",
        "import matplotlib\n",
        "import matplotlib.pyplot as plt\n",
        "from collections import namedtuple\n",
        "from itertools import count\n",
        "from PIL import Image\n",
        "import torch\n",
        "import torch.nn as nn\n",
        "import torch.optim as optim\n",
        "import torch.nn.functional as F\n",
        "import torchvision.transforms as T  \n",
        "\n",
        "device = torch.device(\"cuda\" if torch.cuda.is_available() else \"cpu\")\n",
        "\n",
        "is_ipython = 'inline' in matplotlib.get_backend()\n",
        "if is_ipython: from IPython import display\n",
        "\n",
        "# from IPython import display\n",
        "\n",
        "plt.style.use(['dark_background'])\n",
        "%matplotlib inline\n",
        "\n",
        "class DQN(nn.Module):\n",
        "    def __init__(self, img_height, img_width):\n",
        "        super().__init__()\n",
        "\n",
        "        self.fc1 = nn.Linear(in_features=img_height*img_width*3, out_features=24)   \n",
        "        self.fc2 = nn.Linear(in_features=24, out_features=32)\n",
        "        self.out = nn.Linear(in_features=32, out_features=2)\n",
        "    def forward(self, t):\n",
        "        t = t.flatten(start_dim=1)\n",
        "        t = F.relu(self.fc1(t))\n",
        "        t = F.relu(self.fc2(t))\n",
        "        t = self.out(t)\n",
        "        return t\n",
        "\n",
        "Experience = namedtuple(\n",
        "    'Experience',\n",
        "    ('state', 'action', 'next_state', 'reward')\n",
        ")\n",
        "\n",
        "class ReplayMemory():\n",
        "    def __init__(self, capacity):\n",
        "        self.capacity = capacity\n",
        "        self.memory = []\n",
        "        self.push_count = 0\n",
        "    def push(self, experience):\n",
        "        if len(self.memory) < self.capacity:\n",
        "            self.memory.append(experience)\n",
        "        else:\n",
        "            self.memory[self.push_count % self.capacity] = experience\n",
        "        self.push_count += 1\n",
        "    def sample(self, batch_size):\n",
        "        return random.sample(self.memory, batch_size)\n",
        "    def can_provide_sample(self, batch_size):\n",
        "        return len(self.memory) >= batch_size\n",
        "\n",
        "class EpsilonGreedyStrategy():\n",
        "    def __init__(self, start, end, decay):\n",
        "        self.start = start\n",
        "        self.end = end\n",
        "        self.decay = decay\n",
        "    def get_exploration_rate(self, current_step):\n",
        "        return self.end + (self.start - self.end) * \\\n",
        "            math.exp(-1. * current_step * self.decay)\n",
        "\n",
        "class Agent():\n",
        "    def __init__(self, strategy, num_actions, device):\n",
        "        self.current_step = 0\n",
        "        self.strategy = strategy\n",
        "        self.num_actions = num_actions\n",
        "        self.device = device\n",
        "    def select_action(self, state, policy_net):\n",
        "        rate = self.strategy.get_exploration_rate(self.current_step)\n",
        "        self.current_step += 1\n",
        "\n",
        "        if rate > random.random():\n",
        "            random.randrange(self.num_actions)\n",
        "            return torch.tensor(random.randrange(self.num_actions)) # explore   \n",
        "        else:\n",
        "            with torch.no_grad():\n",
        "                return policy_net(state).argmax(dim=1).to(self.device)\n",
        "\n",
        "class CartPoleEnvManager():\n",
        "    def __init__(self, device):\n",
        "        self.device = device\n",
        "        self.env = gym.make('CartPole-v0').unwrapped\n",
        "        self.env.reset()\n",
        "        self.current_screen = None\n",
        "        self.done = False\n",
        "        \n",
        "    def reset(self):\n",
        "        self.env.reset()\n",
        "        self.current_screen = None\n",
        "\n",
        "    def close(self):\n",
        "        self.env.close()\n",
        "\n",
        "    def render(self, mode='human'):\n",
        "        return self.env.render(mode)\n",
        "    def num_actions_available(self):\n",
        "        return self.env.action_space.n\n",
        "    def take_action(self, action):        \n",
        "        _, reward, self.done, _ = self.env.step(action.item())\n",
        "        return torch.tensor([reward], device=self.device)\n",
        "    def just_starting(self):\n",
        "        return self.current_screen is None\n",
        "    def get_state(self):\n",
        "        if self.just_starting() or self.done:\n",
        "            self.current_screen = self.get_processed_screen()\n",
        "            black_screen = torch.zeros_like(self.current_screen)\n",
        "            return black_screen\n",
        "        else:\n",
        "            s1 = self.current_screen\n",
        "            s2 = self.get_processed_screen()\n",
        "            self.current_screen = s2\n",
        "            return s2 - s1\n",
        "    def get_screen_height(self):\n",
        "        screen = self.get_processed_screen()\n",
        "        return screen.shape[2]\n",
        "\n",
        "    def get_screen_width(self):\n",
        "        screen = self.get_processed_screen()\n",
        "        return screen.shape[3]\n",
        "    def get_processed_screen(self):\n",
        "        screen = self.render('rgb_array').transpose((2, 0, 1)) # PyTorch expects CHW\n",
        "        screen = self.crop_screen(screen)\n",
        "        return self.transform_screen_data(screen)\n",
        "    def crop_screen(self, screen):\n",
        "        screen_height = screen.shape[1]\n",
        "\n",
        "        # Strip off top and bottom\n",
        "        top = int(screen_height * 0.4)\n",
        "        bottom = int(screen_height * 0.8)\n",
        "        screen = screen[:, top:bottom, :]\n",
        "        return screen\n",
        "    def transform_screen_data(self, screen):       \n",
        "        # Convert to float, rescale, convert to tensor\n",
        "        screen = np.ascontiguousarray(screen, dtype=np.float32) / 255\n",
        "        screen = torch.from_numpy(screen)\n",
        "\n",
        "        # Use torchvision package to compose image transforms\n",
        "        resize = T.Compose([\n",
        "            T.ToPILImage()\n",
        "            ,T.Resize((40,90))\n",
        "            ,T.ToTensor()\n",
        "        ])\n",
        "\n",
        "        return resize(screen).unsqueeze(0).to(self.device) # add a batch dimension (BCHW)\n",
        "\n",
        "\n",
        "def plot(values, moving_avg_period):\n",
        "    plt.figure(2)\n",
        "    plt.clf()        \n",
        "    plt.title('Training...')\n",
        "    plt.xlabel('Episode')\n",
        "    plt.ylabel('Duration')\n",
        "    plt.plot(values)\n",
        "\n",
        "    moving_avg = get_moving_average(moving_avg_period, values)\n",
        "    plt.plot(moving_avg)    \n",
        "    plt.pause(0.001)\n",
        "    print(\"Episode\", len(values), \"\\n\", \\\n",
        "        moving_avg_period, \"episode moving avg:\", moving_avg[-1])\n",
        "    # print(moving_avg.max(),np.argmax(moving_avg))\n",
        "    if is_ipython: display.clear_output(wait=True)\n",
        "\n",
        "def plot2(values, moving_avg_period,steps_list):\n",
        "    plt.figure(2)\n",
        "    plt.clf()        \n",
        "    plt.title('Training...')\n",
        "    plt.xlabel('Episode')\n",
        "    plt.ylabel('Duration')\n",
        "    plt.plot(steps_list,values)\n",
        "\n",
        "    moving_avg = get_moving_average(moving_avg_period, values)\n",
        "    plt.plot(steps_list,moving_avg)    \n",
        "    plt.pause(0.001)\n",
        "    print(\"Episode\", len(values), \"\\n\", \\\n",
        "        moving_avg_period, \"episode moving avg:\", moving_avg[-1])\n",
        "    if is_ipython: display.clear_output(wait=True)\n",
        "        \n",
        "def get_moving_average(period, values):\n",
        "    values = torch.tensor(values, dtype=torch.float)\n",
        "    if len(values) >= period:\n",
        "        moving_avg = values.unfold(dimension=0, size=period, step=1) \\\n",
        "            .mean(dim=1).flatten(start_dim=0)\n",
        "        moving_avg = torch.cat((torch.zeros(period-1), moving_avg))\n",
        "        return moving_avg.numpy()\n",
        "    else:\n",
        "        moving_avg = torch.zeros(len(values))\n",
        "        return moving_avg.numpy()\n",
        "\n",
        "def extract_tensors(experiences):\n",
        "    # Convert batch of Experiences to Experience of batches\n",
        "    batch = Experience(*zip(*experiences))\n",
        "    t1 = torch.cat(batch.state)\n",
        "    t2 = torch.cat(batch.action)\n",
        "    t3 = torch.cat(batch.reward)\n",
        "    t4 = torch.cat(batch.next_state)\n",
        "\n",
        "    return (t1,t2,t3,t4)\n"
      ],
      "execution_count": null,
      "outputs": []
    },
    {
      "cell_type": "code",
      "metadata": {
        "id": "gzNoagcTZIhN"
      },
      "source": [
        "import os\n",
        "import pickle\n",
        "import time"
      ],
      "execution_count": null,
      "outputs": []
    },
    {
      "cell_type": "code",
      "metadata": {
        "id": "ubNUr-pApxvX"
      },
      "source": [
        "# a = get_moving_average(100,episode_durations)\n",
        "# print(a.max(),np.argmax(a))"
      ],
      "execution_count": null,
      "outputs": []
    },
    {
      "cell_type": "markdown",
      "metadata": {
        "id": "vTd1W7AGSm88"
      },
      "source": [
        "# Test:"
      ]
    },
    {
      "cell_type": "code",
      "metadata": {
        "colab": {
          "base_uri": "https://localhost:8080/",
          "height": 331
        },
        "id": "tJ1Mk2t9SoZT",
        "outputId": "d0750b5e-469d-4d32-985a-c120de5d37e6"
      },
      "source": [
        "class QValues():\n",
        "    device = torch.device(\"cuda\" if torch.cuda.is_available() else \"cpu\")\n",
        "    \n",
        "    @staticmethod\n",
        "    def get_current(policy_net, states, actions):\n",
        "        return policy_net(states).gather(dim=1, index=actions.unsqueeze(-1))\n",
        "    \n",
        "    @staticmethod        \n",
        "    def get_next(target_net, next_states, policy_net):                \n",
        "        final_state_locations = next_states.flatten(start_dim=1) \\\n",
        "            .max(dim=1)[0].eq(0).type(torch.bool)\n",
        "        non_final_state_locations = (final_state_locations == False)\n",
        "        non_final_states = next_states[non_final_state_locations]\n",
        "        batch_size = next_states.shape[0]\n",
        "        values = torch.zeros(batch_size).to(QValues.device)\n",
        "        \n",
        "        am = policy_net(non_final_states).max(dim=1)[1] #argmaxes!\n",
        "        qs = target_net(non_final_states)\n",
        "        \n",
        "        values[non_final_state_locations] = qs.gather(1, am.reshape(len(am),1)).reshape(len(qs)).detach()\n",
        "        return values\n",
        "\n",
        "batch_size = 256\n",
        "gamma = 0.99\n",
        "eps_start = 1\n",
        "eps_end = 0.01\n",
        "eps_decay = 0.001\n",
        "target_update = 10\n",
        "target_update2 = 5\n",
        "memory_size = 100000\n",
        "lr = 0.001\n",
        "num_episodes = 110\n",
        "\n",
        "em = CartPoleEnvManager(device)\n",
        "strategy = EpsilonGreedyStrategy(eps_start, eps_end, eps_decay)\n",
        "\n",
        "agent = Agent(strategy, em.num_actions_available(), device)\n",
        "memory = ReplayMemory(memory_size)\n",
        "\n",
        "policy_net = DQN(em.get_screen_height(), em.get_screen_width()).to(device)\n",
        "target_net = DQN(em.get_screen_height(), em.get_screen_width()).to(device)\n",
        "\n",
        "target_net.load_state_dict(policy_net.state_dict())\n",
        "target_net.eval()\n",
        "\n",
        "optimizer = optim.Adam(params=policy_net.parameters(), lr=lr)\n",
        "\n",
        "episode_durations = []\n",
        "\n",
        "for episode in range(num_episodes):\n",
        "    em.reset()\n",
        "    state = em.get_state()\n",
        "    for timestep in count():\n",
        "        action = (agent.select_action(state, policy_net)).reshape(1).cuda()\n",
        "        reward = em.take_action(action)\n",
        "        next_state = em.get_state()\n",
        "#         print(action)\n",
        "        memory.push(Experience(state, action, next_state, reward))\n",
        "        state = next_state\n",
        "        if memory.can_provide_sample(batch_size):\n",
        "            experiences = memory.sample(batch_size)\n",
        "            states, actions, rewards, next_states = extract_tensors(experiences)\n",
        "\n",
        "            current_q_values = QValues.get_current(policy_net, states, actions)\n",
        "            next_q_values = QValues.get_next(target_net, next_states, policy_net)\n",
        "            target_q_values = (next_q_values * gamma) + rewards\n",
        "\n",
        "            loss = F.mse_loss(current_q_values, target_q_values.unsqueeze(1))\n",
        "            optimizer.zero_grad()\n",
        "            loss.backward()\n",
        "            optimizer.step()\n",
        "        if em.done:\n",
        "            episode_durations.append(timestep)\n",
        "            plot(episode_durations, 100)\n",
        "            break\n",
        "    if episode % target_update == 0:\n",
        "        target_net.load_state_dict(policy_net.state_dict())\n",
        "em.close()"
      ],
      "execution_count": null,
      "outputs": [
        {
          "output_type": "display_data",
          "data": {
            "image/png": "[encoded data removed]",
            "text/plain": [
              "<Figure size 432x288 with 1 Axes>"
            ]
          },
          "metadata": {
            "tags": [],
            "needs_background": "dark"
          }
        },
        {
          "output_type": "stream",
          "text": [
            "Episode 110 \n",
            " 100 episode moving avg: 20.73\n"
          ],
          "name": "stdout"
        }
      ]
    },
    {
      "cell_type": "code",
      "metadata": {
        "colab": {
          "base_uri": "https://localhost:8080/"
        },
        "id": "YLCIQUn9TLqB",
        "outputId": "e24a61da-a119-4008-f005-da9689ecca25"
      },
      "source": [
        "# moving_avg = get_moving_average(100, episode_durations)\n",
        "# print('best duration obtained: ',moving_avg.max(),'\\nat episode: ', np.argmax(moving_avg))"
      ],
      "execution_count": null,
      "outputs": [
        {
          "output_type": "stream",
          "text": [
            "best duration obtained:  21.05 \n",
            "at episode:  107\n"
          ],
          "name": "stdout"
        }
      ]
    },
    {
      "cell_type": "markdown",
      "metadata": {
        "id": "6PnIU_4FddIu"
      },
      "source": [
        "# DDQN:"
      ]
    },
    {
      "cell_type": "code",
      "metadata": {
        "colab": {
          "base_uri": "https://localhost:8080/",
          "height": 329
        },
        "id": "Gdtc3EotdcVa",
        "outputId": "312848c1-e55f-461c-cb14-3e4f5a01a819"
      },
      "source": [
        "t1 = time.time()\n",
        "class QValues():\n",
        "    device = torch.device(\"cuda\" if torch.cuda.is_available() else \"cpu\")\n",
        "    \n",
        "    @staticmethod\n",
        "    def get_current(policy_net, states, actions):\n",
        "        return policy_net(states).gather(dim=1, index=actions.unsqueeze(-1))\n",
        "    \n",
        "    @staticmethod        \n",
        "    def get_next(target_net, next_states, policy_net):                \n",
        "        final_state_locations = next_states.flatten(start_dim=1) \\\n",
        "            .max(dim=1)[0].eq(0).type(torch.bool)\n",
        "        non_final_state_locations = (final_state_locations == False)\n",
        "        non_final_states = next_states[non_final_state_locations]\n",
        "        batch_size = next_states.shape[0]\n",
        "        values = torch.zeros(batch_size).to(QValues.device)\n",
        "        \n",
        "        am = policy_net(non_final_states).max(dim=1)[1] #argmaxes!\n",
        "        qs = target_net(non_final_states)\n",
        "        \n",
        "        values[non_final_state_locations] = qs.gather(1, am.reshape(len(am),1)).reshape(len(qs)).detach()\n",
        "        return values\n",
        "\n",
        "batch_size = 256\n",
        "gamma = 0.99\n",
        "eps_start = 1\n",
        "eps_end = 0.01\n",
        "eps_decay = 0.001\n",
        "target_update = 10\n",
        "target_update2 = 5\n",
        "memory_size = 50000\n",
        "lr = 0.001\n",
        "num_episodes = 1500\n",
        "\n",
        "em = CartPoleEnvManager(device)\n",
        "strategy = EpsilonGreedyStrategy(eps_start, eps_end, eps_decay)\n",
        "\n",
        "agent = Agent(strategy, em.num_actions_available(), device)\n",
        "memory = ReplayMemory(memory_size)\n",
        "\n",
        "policy_net = DQN(em.get_screen_height(), em.get_screen_width()).to(device)\n",
        "target_net = DQN(em.get_screen_height(), em.get_screen_width()).to(device)\n",
        "\n",
        "target_net.load_state_dict(policy_net.state_dict())\n",
        "target_net.eval()\n",
        "\n",
        "optimizer = optim.Adam(params=policy_net.parameters(), lr=lr)\n",
        "\n",
        "episode_durations_ddqn = []\n",
        "\n",
        "for episode in range(num_episodes):\n",
        "    em.reset()\n",
        "    state = em.get_state()\n",
        "    for timestep in count():\n",
        "        action = (agent.select_action(state, policy_net)).reshape(1).cuda()\n",
        "        reward = em.take_action(action)\n",
        "        next_state = em.get_state()\n",
        "#         print(action)\n",
        "        memory.push(Experience(state, action, next_state, reward))\n",
        "        state = next_state\n",
        "        if memory.can_provide_sample(batch_size):\n",
        "            experiences = memory.sample(batch_size)\n",
        "            states, actions, rewards, next_states = extract_tensors(experiences)\n",
        "\n",
        "            current_q_values = QValues.get_current(policy_net, states, actions)\n",
        "            next_q_values = QValues.get_next(target_net, next_states, policy_net)\n",
        "            target_q_values = (next_q_values * gamma) + rewards\n",
        "\n",
        "            loss = F.mse_loss(current_q_values, target_q_values.unsqueeze(1))\n",
        "            optimizer.zero_grad()\n",
        "            loss.backward()\n",
        "            optimizer.step()\n",
        "        if em.done:\n",
        "            episode_durations_ddqn.append(timestep)\n",
        "            plot(episode_durations_ddqn, 100)\n",
        "            break\n",
        "    if episode % target_update == 0:\n",
        "        target_net.load_state_dict(policy_net.state_dict())\n",
        "em.close()\n",
        "t2 = time.time()"
      ],
      "execution_count": null,
      "outputs": [
        {
          "output_type": "display_data",
          "data": {
            "image/png": "[encoded data removed]",
            "text/plain": [
              "<Figure size 432x288 with 1 Axes>"
            ]
          },
          "metadata": {
            "tags": [],
            "needs_background": "dark"
          }
        },
        {
          "output_type": "stream",
          "text": [
            "Episode 1500 \n",
            " 100 episode moving avg: 101.76\n"
          ],
          "name": "stdout"
        }
      ]
    },
    {
      "cell_type": "code",
      "metadata": {
        "id": "oLsfwCZu4eUA",
        "colab": {
          "base_uri": "https://localhost:8080/"
        },
        "outputId": "e0036650-bd50-4e11-ed41-93a795a1d2f8"
      },
      "source": [
        "moving_avg_ddqn = get_moving_average(100, episode_durations_ddqn)\n",
        "print('best duration obtained: ',moving_avg_ddqn.max(),'\\nat episode: ', np.argmax(moving_avg_ddqn))"
      ],
      "execution_count": null,
      "outputs": [
        {
          "output_type": "stream",
          "text": [
            "best duration obtained:  122.4 \n",
            "at episode:  1399\n"
          ],
          "name": "stdout"
        }
      ]
    },
    {
      "cell_type": "code",
      "metadata": {
        "id": "vtUt2h0XZRJH"
      },
      "source": [
        "ex_ddqn = t2-t1\n",
        "path_ddqn = '/content/drive/MyDrive/DRL/Cart/ddqn_scalars.pkl'\n",
        "obj_ddqn = [episode_durations_ddqn,moving_avg_ddqn,ex_ddqn]\n",
        "f = open(path_ddqn, 'wb')\n",
        "pickle.dump(obj_ddqn, f)\n",
        "f.close()"
      ],
      "execution_count": null,
      "outputs": []
    },
    {
      "cell_type": "code",
      "metadata": {
        "id": "RgFB8lFv9kQ1"
      },
      "source": [
        "print(ex_ddqn)"
      ],
      "execution_count": null,
      "outputs": []
    },
    {
      "cell_type": "markdown",
      "metadata": {
        "id": "KyQWlgklXidn"
      },
      "source": [
        "# TDQN:"
      ]
    },
    {
      "cell_type": "code",
      "metadata": {
        "id": "AYrmowcgXhli",
        "colab": {
          "base_uri": "https://localhost:8080/",
          "height": 329
        },
        "outputId": "52dd0d57-8343-4abf-e7d7-b0847aeb2d36"
      },
      "source": [
        "t1 = time.time()\n",
        "class QValues():\n",
        "    device = torch.device(\"cuda\" if torch.cuda.is_available() else \"cpu\")\n",
        "    \n",
        "    @staticmethod\n",
        "    def get_current(policy_net, states, actions):\n",
        "        return policy_net(states).gather(dim=1, index=actions.unsqueeze(-1))\n",
        "    \n",
        "    @staticmethod        \n",
        "    def get_next(target_net, next_states, policy_net):                \n",
        "        final_state_locations = next_states.flatten(start_dim=1) \\\n",
        "            .max(dim=1)[0].eq(0).type(torch.bool)\n",
        "        non_final_state_locations = (final_state_locations == False)\n",
        "        non_final_states = next_states[non_final_state_locations]\n",
        "        batch_size = next_states.shape[0]\n",
        "        values = torch.zeros(batch_size).to(QValues.device)\n",
        "        \n",
        "        am = policy_net(non_final_states).max(dim=1)[1] #argmaxes!\n",
        "        qs = target_net(non_final_states)\n",
        "        \n",
        "        values[non_final_state_locations] = qs.gather(1, am.reshape(len(am),1)).reshape(len(qs)).detach()\n",
        "        return values\n",
        "\n",
        "batch_size = 256\n",
        "gamma = 0.99\n",
        "eps_start = 1\n",
        "eps_end = 0.01\n",
        "eps_decay = 0.001\n",
        "target_update = 10\n",
        "target_update2 = 5\n",
        "memory_size = 50000\n",
        "lr = 0.001\n",
        "num_episodes = 1500\n",
        "\n",
        "em = CartPoleEnvManager(device)\n",
        "strategy = EpsilonGreedyStrategy(eps_start, eps_end, eps_decay)\n",
        "\n",
        "agent = Agent(strategy, em.num_actions_available(), device)\n",
        "memory = ReplayMemory(memory_size)\n",
        "\n",
        "policy_net = DQN(em.get_screen_height(), em.get_screen_width()).to(device)\n",
        "target_net = DQN(em.get_screen_height(), em.get_screen_width()).to(device)\n",
        "target_net2 = DQN(em.get_screen_height(), em.get_screen_width()).to(device)\n",
        "\n",
        "target_net.load_state_dict(policy_net.state_dict())\n",
        "target_net.eval()\n",
        "\n",
        "target_net2.load_state_dict(policy_net.state_dict())\n",
        "target_net2.eval()\n",
        "\n",
        "optimizer = optim.Adam(params=policy_net.parameters(), lr=lr)\n",
        "\n",
        "episode_durations_tdqn = []\n",
        "\n",
        "for episode in range(num_episodes):\n",
        "    em.reset()\n",
        "    state = em.get_state()\n",
        "    for timestep in count():\n",
        "        action = (agent.select_action(state, policy_net)).reshape(1).cuda()\n",
        "        reward = em.take_action(action)\n",
        "        next_state = em.get_state()\n",
        "#         print(action)\n",
        "        memory.push(Experience(state, action, next_state, reward))\n",
        "        state = next_state\n",
        "        if memory.can_provide_sample(batch_size):\n",
        "            experiences = memory.sample(batch_size)\n",
        "            states, actions, rewards, next_states = extract_tensors(experiences)\n",
        "\n",
        "            current_q_values = QValues.get_current(policy_net, states, actions)\n",
        "            next_q_values = QValues.get_next(target_net, next_states, target_net2)\n",
        "            target_q_values = (next_q_values * gamma) + rewards\n",
        "\n",
        "            loss = F.mse_loss(current_q_values, target_q_values.unsqueeze(1))\n",
        "            optimizer.zero_grad()\n",
        "            loss.backward()\n",
        "            optimizer.step()\n",
        "        if em.done:\n",
        "            episode_durations_tdqn.append(timestep)\n",
        "            plot(episode_durations_tdqn, 100)\n",
        "            break\n",
        "    if episode % target_update == 0:\n",
        "        target_net.load_state_dict(policy_net.state_dict())\n",
        "    if episode % target_update2 == 0:\n",
        "        target_net2.load_state_dict(policy_net.state_dict())\n",
        "em.close()\n",
        "t2 = time.time()"
      ],
      "execution_count": null,
      "outputs": [
        {
          "output_type": "display_data",
          "data": {
            "image/png": "[encoded data removed]",
            "text/plain": [
              "<Figure size 432x288 with 1 Axes>"
            ]
          },
          "metadata": {
            "tags": [],
            "needs_background": "dark"
          }
        },
        {
          "output_type": "stream",
          "text": [
            "Episode 1500 \n",
            " 100 episode moving avg: 63.49\n"
          ],
          "name": "stdout"
        }
      ]
    },
    {
      "cell_type": "code",
      "metadata": {
        "id": "H-K8jJwTXmet",
        "colab": {
          "base_uri": "https://localhost:8080/"
        },
        "outputId": "ccd88aae-10dc-4bff-efa5-24613936d292"
      },
      "source": [
        "moving_avg_tdqn = get_moving_average(100, episode_durations_tdqn)\n",
        "print('best duration obtained: ',moving_avg_tdqn.max(),'\\nat episode: ', np.argmax(moving_avg_tdqn))"
      ],
      "execution_count": null,
      "outputs": [
        {
          "output_type": "stream",
          "text": [
            "best duration obtained:  96.76 \n",
            "at episode:  1074\n"
          ],
          "name": "stdout"
        }
      ]
    },
    {
      "cell_type": "code",
      "metadata": {
        "id": "6zOPRmZy3vHh"
      },
      "source": [
        "ex_tdqn = t2-t1\n",
        "path = '/content/drive/MyDrive/DRL/Cart/tdqn_scalars.pkl'\n",
        "obj_tdqn = [episode_durations_tdqn,moving_avg_tdqn,ex_tdqn]\n",
        "f = open(path, 'wb')\n",
        "pickle.dump(obj_tdqn, f)\n",
        "f.close()"
      ],
      "execution_count": null,
      "outputs": []
    },
    {
      "cell_type": "code",
      "metadata": {
        "colab": {
          "base_uri": "https://localhost:8080/"
        },
        "id": "hbB_1-649evz",
        "outputId": "432d27b0-f6a2-439b-dd70-c2f71d3edaf7"
      },
      "source": [
        "print(ex_tdqn)"
      ],
      "execution_count": null,
      "outputs": [
        {
          "output_type": "stream",
          "text": [
            "1318.85120677948\n"
          ],
          "name": "stdout"
        }
      ]
    },
    {
      "cell_type": "markdown",
      "metadata": {
        "id": "XvOp5L_LZnJl"
      },
      "source": [
        "# Semi-Decoupled:"
      ]
    },
    {
      "cell_type": "code",
      "metadata": {
        "id": "vOLcrdSLZigd",
        "colab": {
          "base_uri": "https://localhost:8080/",
          "height": 329
        },
        "outputId": "221a0d1d-c749-460e-a040-cdaf0bb92847"
      },
      "source": [
        "t1 = time.time()\n",
        "class QValues():\n",
        "    device = torch.device(\"cuda\" if torch.cuda.is_available() else \"cpu\")\n",
        "    \n",
        "    @staticmethod\n",
        "    def get_current(policy1, states, actions):\n",
        "        return policy1(states).gather(dim=1, index=actions.unsqueeze(-1))\n",
        "    \n",
        "    @staticmethod        \n",
        "    def get_next(target1, next_states, target2):                \n",
        "        final_state_locations = next_states.flatten(start_dim=1) \\\n",
        "            .max(dim=1)[0].eq(0).type(torch.bool)\n",
        "        non_final_state_locations = (final_state_locations == False)\n",
        "        non_final_states = next_states[non_final_state_locations]\n",
        "        batch_size = next_states.shape[0]\n",
        "        values = torch.zeros(batch_size).to(QValues.device)\n",
        "        \n",
        "        am = target1(non_final_states).max(dim=1)[1] #argmaxes!\n",
        "        qs = target2(non_final_states)\n",
        "        \n",
        "        values[non_final_state_locations] = qs.gather(1, am.reshape(len(am),1)).reshape(len(qs)).detach()\n",
        "        return values\n",
        "\n",
        "batch_size = 256\n",
        "gamma = 0.99\n",
        "eps_start = 1\n",
        "eps_end = 0.01\n",
        "eps_decay = 0.001\n",
        "target_update1 = 10\n",
        "target_update2 = 10\n",
        "memory_size = 50000\n",
        "lr = 0.001\n",
        "num_episodes = 1500\n",
        "\n",
        "em = CartPoleEnvManager(device)\n",
        "strategy = EpsilonGreedyStrategy(eps_start, eps_end, eps_decay)\n",
        "\n",
        "agent = Agent(strategy, em.num_actions_available(), device)\n",
        "memory = ReplayMemory(memory_size)\n",
        "\n",
        "policy1 = DQN(em.get_screen_height(), em.get_screen_width()).to(device)\n",
        "policy2 = DQN(em.get_screen_height(), em.get_screen_width()).to(device)\n",
        "target1 = DQN(em.get_screen_height(), em.get_screen_width()).to(device)\n",
        "target2 = DQN(em.get_screen_height(), em.get_screen_width()).to(device)\n",
        "\n",
        "target1.load_state_dict(policy1.state_dict())\n",
        "target1.eval()\n",
        "\n",
        "target2.load_state_dict(policy2.state_dict())\n",
        "target2.eval()\n",
        "\n",
        "\n",
        "optimizer1 = optim.Adam(params=policy1.parameters(), lr=lr)\n",
        "optimizer2 = optim.Adam(params=policy2.parameters(), lr=lr)\n",
        "\n",
        "\n",
        "episode_durations_sd = []\n",
        "\n",
        "for episode in range(num_episodes):\n",
        "    em.reset()\n",
        "    state = em.get_state()\n",
        "    for timestep in count():\n",
        "        action = (agent.select_action(state, policy1)).reshape(1).cuda()\n",
        "        reward = em.take_action(action)\n",
        "        next_state = em.get_state()\n",
        "#         print(action)\n",
        "        memory.push(Experience(state, action, next_state, reward))\n",
        "        state = next_state\n",
        "        if memory.can_provide_sample(batch_size):\n",
        "            experiences1 = memory.sample(batch_size)\n",
        "            states, actions, rewards, next_states = extract_tensors(experiences1)\n",
        "\n",
        "            current_q_values = QValues.get_current(policy1, states, actions)\n",
        "            next_q_values = QValues.get_next(target1, next_states, target2)\n",
        "            target_q_values = (next_q_values * gamma) + rewards\n",
        "\n",
        "            loss = F.mse_loss(current_q_values, target_q_values.unsqueeze(1))\n",
        "            optimizer1.zero_grad()\n",
        "            loss.backward()\n",
        "            optimizer1.step()\n",
        "            \n",
        "            experiences2 = memory.sample(batch_size)\n",
        "            states, actions, rewards, next_states = extract_tensors(experiences2)\n",
        "\n",
        "            current_q_values = QValues.get_current(policy2, states, actions)\n",
        "            next_q_values = QValues.get_next(target2, next_states, target1)\n",
        "            target_q_values = (next_q_values * gamma) + rewards\n",
        "\n",
        "            loss = F.mse_loss(current_q_values, target_q_values.unsqueeze(1))\n",
        "            optimizer2.zero_grad()\n",
        "            loss.backward()\n",
        "            optimizer2.step()\n",
        "            \n",
        "        if em.done:\n",
        "            episode_durations_sd.append(timestep)\n",
        "            plot(episode_durations_sd, 100)\n",
        "            break\n",
        "    if episode % target_update1 == 0:\n",
        "        target1.load_state_dict(policy1.state_dict())\n",
        "    if episode % target_update2 == 0:\n",
        "        target2.load_state_dict(policy2.state_dict())\n",
        "em.close()\n",
        "t2 = time.time()"
      ],
      "execution_count": null,
      "outputs": [
        {
          "output_type": "display_data",
          "data": {
            "image/png": "[encoded data removed]",
            "text/plain": [
              "<Figure size 432x288 with 1 Axes>"
            ]
          },
          "metadata": {
            "tags": [],
            "needs_background": "dark"
          }
        },
        {
          "output_type": "stream",
          "text": [
            "Episode 1500 \n",
            " 100 episode moving avg: 78.14\n"
          ],
          "name": "stdout"
        }
      ]
    },
    {
      "cell_type": "code",
      "metadata": {
        "id": "LQB7SFwV4pB9",
        "colab": {
          "base_uri": "https://localhost:8080/"
        },
        "outputId": "f032c0f8-175d-452b-d31f-69a274976ca1"
      },
      "source": [
        "moving_avg_sd = get_moving_average(100, episode_durations_sd)\n",
        "print('best duration obtained: ',moving_avg_sd.max(),'\\nat episode: ', np.argmax(moving_avg_sd))"
      ],
      "execution_count": null,
      "outputs": [
        {
          "output_type": "stream",
          "text": [
            "best duration obtained:  92.49 \n",
            "at episode:  1306\n"
          ],
          "name": "stdout"
        }
      ]
    },
    {
      "cell_type": "code",
      "metadata": {
        "id": "qNuaFPapgFXC"
      },
      "source": [
        "ex_sd = t2-t1\n",
        "path = '/content/drive/MyDrive/DRL/Cart/sd_scalars.pkl'\n",
        "obj_sd = [episode_durations_sd,moving_avg_sd,ex_sd]\n",
        "f = open(path, 'wb')\n",
        "pickle.dump(obj_sd, f)\n",
        "f.close()"
      ],
      "execution_count": null,
      "outputs": []
    },
    {
      "cell_type": "code",
      "metadata": {
        "id": "LRQ8I77Dn1RO"
      },
      "source": [
        "path_ddqn = '/content/drive/MyDrive/DRL/Cart/ddqn_scalars.pkl'\n",
        "f = open(path_ddqn, 'rb')\n",
        "o = pickle.load(f)\n",
        "f.close()"
      ],
      "execution_count": null,
      "outputs": []
    },
    {
      "cell_type": "code",
      "metadata": {
        "colab": {
          "base_uri": "https://localhost:8080/"
        },
        "id": "xhkWmJpSnjxr",
        "outputId": "90bc19ab-6114-4cd8-f03f-2f18a8178091"
      },
      "source": [
        "print(ex_sd,o3)"
      ],
      "execution_count": null,
      "outputs": [
        {
          "output_type": "stream",
          "text": [
            "1652.6947422027588 1506.3838005065918\n"
          ],
          "name": "stdout"
        }
      ]
    },
    {
      "cell_type": "markdown",
      "metadata": {
        "id": "J7yUX6MtZqz6"
      },
      "source": [
        "# Fully-Decoupled:"
      ]
    },
    {
      "cell_type": "code",
      "metadata": {
        "id": "o0uxg5KNZs_T",
        "colab": {
          "base_uri": "https://localhost:8080/",
          "height": 329
        },
        "outputId": "8f26f068-a41d-4789-893c-b11f7e5e7c14"
      },
      "source": [
        "class QValues():\n",
        "    device = torch.device(\"cuda\" if torch.cuda.is_available() else \"cpu\")\n",
        "    \n",
        "    @staticmethod\n",
        "    def get_current(policy1, states, actions):\n",
        "        return policy1(states).gather(dim=1, index=actions.unsqueeze(-1))\n",
        "    \n",
        "    @staticmethod        \n",
        "    def get_next(target1, next_states, target2):                \n",
        "        final_state_locations = next_states.flatten(start_dim=1) \\\n",
        "            .max(dim=1)[0].eq(0).type(torch.bool)\n",
        "        non_final_state_locations = (final_state_locations == False)\n",
        "        non_final_states = next_states[non_final_state_locations]\n",
        "        batch_size = next_states.shape[0]\n",
        "        values = torch.zeros(batch_size).to(QValues.device)\n",
        "        \n",
        "        am = target1(non_final_states).max(dim=1)[1] #argmaxes!\n",
        "        qs = target2(non_final_states)\n",
        "        \n",
        "        values[non_final_state_locations] = qs.gather(1, am.reshape(len(am),1)).reshape(len(qs)).detach()\n",
        "        return values\n",
        "\n",
        "batch_size = 256\n",
        "gamma = 0.99\n",
        "eps_start = 1\n",
        "eps_end = 0.01\n",
        "eps_decay = 0.001\n",
        "target_update1 = 10\n",
        "target_update2 = 10\n",
        "target_update3 = 10\n",
        "memory_size = 50000\n",
        "lr = 0.001\n",
        "num_episodes = 1500\n",
        "\n",
        "em = CartPoleEnvManager(device)\n",
        "strategy = EpsilonGreedyStrategy(eps_start, eps_end, eps_decay)\n",
        "\n",
        "agent = Agent(strategy, em.num_actions_available(), device)\n",
        "memory = ReplayMemory(memory_size)\n",
        "\n",
        "policy1 = DQN(em.get_screen_height(), em.get_screen_width()).to(device)\n",
        "policy2 = DQN(em.get_screen_height(), em.get_screen_width()).to(device)\n",
        "policy3 = DQN(em.get_screen_height(), em.get_screen_width()).to(device)\n",
        "\n",
        "target1 = DQN(em.get_screen_height(), em.get_screen_width()).to(device)\n",
        "target2 = DQN(em.get_screen_height(), em.get_screen_width()).to(device)\n",
        "target3 = DQN(em.get_screen_height(), em.get_screen_width()).to(device)\n",
        "\n",
        "target1.load_state_dict(policy1.state_dict())\n",
        "target1.eval()\n",
        "\n",
        "target2.load_state_dict(policy2.state_dict())\n",
        "target2.eval()\n",
        "\n",
        "target3.load_state_dict(policy3.state_dict())\n",
        "target3.eval()\n",
        "\n",
        "\n",
        "optimizer1 = optim.Adam(params=policy1.parameters(), lr=lr)\n",
        "optimizer2 = optim.Adam(params=policy2.parameters(), lr=lr)\n",
        "optimizer3 = optim.Adam(params=policy3.parameters(), lr=lr)\n",
        "\n",
        "\n",
        "episode_durations_fd = []\n",
        "\n",
        "#####\n",
        "# steps = 0\n",
        "# steps_list = []\n",
        "#####\n",
        "\n",
        "for episode in range(num_episodes):\n",
        "    em.reset()\n",
        "    state = em.get_state()\n",
        "    for timestep in count():\n",
        "        action = (agent.select_action(state, policy1)).reshape(1).cuda()\n",
        "        reward = em.take_action(action)\n",
        "        next_state = em.get_state()\n",
        "#         print(action)\n",
        "        memory.push(Experience(state, action, next_state, reward))\n",
        "        state = next_state\n",
        "        if memory.can_provide_sample(batch_size):\n",
        "            experiences1 = memory.sample(batch_size)\n",
        "            states, actions, rewards, next_states = extract_tensors(experiences1)\n",
        "\n",
        "            current_q_values = QValues.get_current(policy1, states, actions)\n",
        "            next_q_values = QValues.get_next(target2, next_states, target3)\n",
        "            target_q_values = (next_q_values * gamma) + rewards\n",
        "\n",
        "            loss = F.mse_loss(current_q_values, target_q_values.unsqueeze(1))\n",
        "            optimizer1.zero_grad()\n",
        "            loss.backward()\n",
        "            optimizer1.step()\n",
        "            \n",
        "            experiences2 = memory.sample(batch_size)\n",
        "            states, actions, rewards, next_states = extract_tensors(experiences2)\n",
        "\n",
        "            current_q_values = QValues.get_current(policy2, states, actions)\n",
        "            next_q_values = QValues.get_next(target3, next_states, target1)\n",
        "            target_q_values = (next_q_values * gamma) + rewards\n",
        "\n",
        "            loss = F.mse_loss(current_q_values, target_q_values.unsqueeze(1))\n",
        "            optimizer2.zero_grad()\n",
        "            loss.backward()\n",
        "            optimizer2.step()\n",
        "\n",
        "            experiences3 = memory.sample(batch_size)\n",
        "            states, actions, rewards, next_states = extract_tensors(experiences3)\n",
        "\n",
        "            current_q_values = QValues.get_current(policy3, states, actions)\n",
        "            next_q_values = QValues.get_next(target1, next_states, target2)\n",
        "            target_q_values = (next_q_values * gamma) + rewards\n",
        "\n",
        "            loss = F.mse_loss(current_q_values, target_q_values.unsqueeze(1))\n",
        "            optimizer3.zero_grad()\n",
        "            loss.backward()\n",
        "            optimizer3.step()\n",
        "\n",
        "\n",
        "        if em.done:\n",
        "\n",
        "            #####\n",
        "            # steps += timestep\n",
        "            # steps_list.append(steps)\n",
        "            #####\n",
        "\n",
        "            episode_durations_fd.append(timestep)\n",
        "            plot(episode_durations_fd, 100)\n",
        "            break\n",
        "    if episode % target_update1 == 0:\n",
        "        target1.load_state_dict(policy1.state_dict())\n",
        "    if episode % target_update2 == 0:\n",
        "        target2.load_state_dict(policy2.state_dict())\n",
        "    if episode % target_update3 == 0:\n",
        "        target3.load_state_dict(policy3.state_dict())\n",
        "em.close()"
      ],
      "execution_count": null,
      "outputs": [
        {
          "output_type": "display_data",
          "data": {
            "image/png": "[encoded data removed]",
            "text/plain": [
              "<Figure size 432x288 with 1 Axes>"
            ]
          },
          "metadata": {
            "tags": [],
            "needs_background": "dark"
          }
        },
        {
          "output_type": "stream",
          "text": [
            "Episode 1500 \n",
            " 100 episode moving avg: 113.76\n"
          ],
          "name": "stdout"
        }
      ]
    },
    {
      "cell_type": "code",
      "metadata": {
        "id": "sh4k1xwv4vkZ",
        "colab": {
          "base_uri": "https://localhost:8080/"
        },
        "outputId": "84159731-14b9-4ec9-f86e-857c5cb5b8e6"
      },
      "source": [
        "moving_avg_fd = get_moving_average(100, episode_durations_fd)\n",
        "print('best duration obtained: ',moving_avg_fd.max(),'\\nat episode: ', np.argmax(moving_avg_fd))"
      ],
      "execution_count": null,
      "outputs": [
        {
          "output_type": "stream",
          "text": [
            "best duration obtained:  120.29 \n",
            "at episode:  1244\n"
          ],
          "name": "stdout"
        }
      ]
    },
    {
      "cell_type": "code",
      "metadata": {
        "id": "i4RwktXSo4Cv"
      },
      "source": [
        "ex_fd = t2-t1\n",
        "path = '/content/drive/MyDrive/DRL/Cart/fd_scalars.pkl'\n",
        "obj_fd = [episode_durations_fd,moving_avg_fd,ex_fd]\n",
        "f = open(path, 'wb')\n",
        "pickle.dump(obj_fd, f)\n",
        "f.close()"
      ],
      "execution_count": null,
      "outputs": []
    },
    {
      "cell_type": "markdown",
      "metadata": {
        "id": "t99w__SSeatL"
      },
      "source": [
        "# Complementaries:"
      ]
    },
    {
      "cell_type": "markdown",
      "metadata": {
        "id": "ihCrf6WUe1gN"
      },
      "source": [
        "## save notebook:"
      ]
    },
    {
      "cell_type": "code",
      "metadata": {
        "id": "gn0lSd_OecfJ"
      },
      "source": [
        "# pip install dill\n",
        "\n",
        "# import dill\n",
        "# dill.dump_session('notebook_env.db')\n",
        "\n",
        "# dill.load_session('notebook_env.db')"
      ],
      "execution_count": null,
      "outputs": []
    },
    {
      "cell_type": "markdown",
      "metadata": {
        "id": "xudbg663e950"
      },
      "source": [
        "## save variables:"
      ]
    },
    {
      "cell_type": "code",
      "metadata": {
        "id": "9hPsFat0e_vL"
      },
      "source": [
        "# import pickle\n",
        "\n",
        "# f = open('store.pkl', 'wb')\n",
        "# pickle.dump(obj, f)\n",
        "# f.close()\n",
        "\n",
        "# f = open('store.pkl', 'rb')\n",
        "# obj = pickle.load(f)\n",
        "# f.close()\n",
        "##############################\n",
        "# import pickle\n",
        "\n",
        "# # obj0, obj1, obj2 are created here...\n",
        "\n",
        "# # Saving the objects:\n",
        "# with open('objs.pkl', 'w') as f:  # Python 3: open(..., 'wb')\n",
        "#     pickle.dump([obj0, obj1, obj2], f)\n",
        "\n",
        "# # Getting back the objects:\n",
        "# with open('objs.pkl') as f:  # Python 3: open(..., 'rb')\n",
        "#     obj0, obj1, obj2 = pickle.load(f)"
      ],
      "execution_count": null,
      "outputs": []
    },
    {
      "cell_type": "markdown",
      "metadata": {
        "id": "6yQAtlmDfAtY"
      },
      "source": [
        "### Tesnsorboard:"
      ]
    },
    {
      "cell_type": "code",
      "metadata": {
        "id": "bYEBj4_jfAKr"
      },
      "source": [
        "# try:\n",
        "#   %tensorflow_version 2.x\n",
        "#   %load_ext tensorboard\n",
        "# except:\n",
        "#   pass\n",
        "\n",
        "####################33\n",
        "\n",
        "# %tensorboard --logdir 'logs'"
      ],
      "execution_count": null,
      "outputs": []
    },
    {
      "cell_type": "markdown",
      "metadata": {
        "id": "_REM3jRjgh0T"
      },
      "source": [
        "## Tensorboard/Pytorch:"
      ]
    },
    {
      "cell_type": "code",
      "metadata": {
        "id": "Z26mCKvcgmvz"
      },
      "source": [
        "# from torch.utils.tensorboard import SummaryWriter\n",
        "# tb = SummaryWriter(log_dir = '')\n",
        "# tb.add_scalar('Loss', total_loss, epoch)\n",
        "# tensorboard --logdir=runs\n",
        "# http://localhost:6006"
      ],
      "execution_count": null,
      "outputs": []
    },
    {
      "cell_type": "markdown",
      "metadata": {
        "id": "tEDHqIl0gXEJ"
      },
      "source": [
        "## Execution Time:"
      ]
    },
    {
      "cell_type": "code",
      "metadata": {
        "id": "P1X31jDdgasn"
      },
      "source": [
        "# import time\n",
        "# t1 = time.time()\n",
        "# t2 = time.time()\n",
        "# print(t2-t1)"
      ],
      "execution_count": null,
      "outputs": []
    }
  ]
}