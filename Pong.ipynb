{
  "nbformat": 4,
  "nbformat_minor": 0,
  "metadata": {
    "colab": {
      "provenance": [],
      "collapsed_sections": []
    },
    "kernelspec": {
      "name": "python3",
      "display_name": "Python 3"
    },
    "language_info": {
      "name": "python"
    }
  },
  "cells": [
    {
      "cell_type": "code",
      "metadata": {
        "id": "1XDvssQd64Pf"
      },
      "source": [
        "!apt-get install -y xvfb python-opengl > /dev/null 2>&1"
      ],
      "execution_count": null,
      "outputs": []
    },
    {
      "cell_type": "code",
      "metadata": {
        "id": "F5esgX013vPe"
      },
      "source": [
        "!pip install gym pyvirtualdisplay > /dev/null 2>&1"
      ],
      "execution_count": null,
      "outputs": []
    },
    {
      "cell_type": "code",
      "metadata": {
        "id": "bgOPeOI-FaIh"
      },
      "source": [
        "!pip install tensorboardX"
      ],
      "execution_count": null,
      "outputs": []
    },
    {
      "cell_type": "code",
      "metadata": {
        "id": "FGqXqJxoAsHG"
      },
      "source": [
        "from pyvirtualdisplay import Display\n",
        "display = Display(visible=0, size=(400, 300))\n",
        "display.start()"
      ],
      "execution_count": null,
      "outputs": []
    },
    {
      "cell_type": "code",
      "metadata": {
        "id": "hN2kqm6DAxO0"
      },
      "source": [
        "import matplotlib\n",
        "is_ipython = 'inline' in matplotlib.get_backend()\n",
        "if is_ipython: from IPython import display"
      ],
      "execution_count": null,
      "outputs": []
    },
    {
      "cell_type": "code",
      "metadata": {
        "id": "BN_LQU_UBKOq"
      },
      "source": [
        "import matplotlib.pyplot as plt\n",
        "\n",
        "plt.style.use(['dark_background'])\n",
        "%matplotlib inline"
      ],
      "execution_count": null,
      "outputs": []
    },
    {
      "cell_type": "code",
      "metadata": {
        "id": "nPKYXrLeK3xM"
      },
      "source": [
        "import urllib.request\n",
        "urllib.request.urlretrieve('http://www.atarimania.com/roms/Roms.rar','Roms.rar')\n",
        "!pip install unrar\n",
        "!unrar x Roms.rar\n",
        "!mkdir rars\n",
        "!mv HC\\ ROMS.zip   rars\n",
        "!mv ROMS.zip  rars\n",
        "!python -m atari_py.import_roms rars"
      ],
      "execution_count": null,
      "outputs": []
    },
    {
      "cell_type": "code",
      "metadata": {
        "id": "4yh3Xw0piILd"
      },
      "source": [
        "import matplotlib.pyplot as plt\n",
        "def plot(steps_done, episode, t, total_rewards,total_reward):\n",
        "    plt.figure(2)\n",
        "    plt.clf()        \n",
        "    plt.title('Training...')\n",
        "    plt.xlabel('Episode')\n",
        "    plt.ylabel('total_reward')\n",
        "    plt.plot(total_rewards)\n",
        "\n",
        "    plt.pause(0.001)\n",
        "    print('Total steps: {} \\t Episode: {}/{} \\t Total reward: {}'\\\n",
        "          .format(steps_done, episode, t, total_reward))  \n",
        "    if is_ipython: display.clear_output(wait=True)"
      ],
      "execution_count": null,
      "outputs": []
    },
    {
      "cell_type": "code",
      "metadata": {
        "id": "uqG6CN_BDOm6"
      },
      "source": [
        "# import os\n",
        "# os.getcwd()\n",
        "# os.chdir(r'/content/drive/MyDrive/ANN_fall99/HW2/dataset')"
      ],
      "execution_count": null,
      "outputs": []
    },
    {
      "cell_type": "code",
      "metadata": {
        "id": "Qi9JMkfXMitw"
      },
      "source": [
        "import copy\n",
        "from collections import namedtuple\n",
        "from itertools import count\n",
        "import math\n",
        "import random\n",
        "import numpy as np \n",
        "import time\n",
        "import pickle\n",
        "\n",
        "import gym\n",
        "\n",
        "from wrappers import *\n",
        "from memory import ReplayMemory\n",
        "from models import *\n",
        "\n",
        "import torch\n",
        "import torch.nn as nn\n",
        "import torch.optim as optim\n",
        "import torch.nn.functional as F\n",
        "import torchvision.transforms as T\n",
        "\n",
        "Transition = namedtuple('Transion', \n",
        "                        ('state', 'action', 'next_state', 'reward'))\n",
        "\n",
        "def select_action(state):\n",
        "    global steps_done\n",
        "    sample = random.random()\n",
        "    eps_threshold = EPS_END + (EPS_START - EPS_END)* \\\n",
        "        math.exp(-1. * steps_done / EPS_DECAY)\n",
        "    steps_done += 1\n",
        "    if sample > eps_threshold:\n",
        "        with torch.no_grad():\n",
        "            return policy_net(state.to('cuda')).max(1)[1].view(1,1)\n",
        "    else:\n",
        "        return torch.tensor([[random.randrange(4)]], device=device, dtype=torch.long)\n",
        "\n",
        "def get_state(obs):\n",
        "    state = np.array(obs)\n",
        "    state = state.transpose((2, 0, 1))\n",
        "    state = torch.from_numpy(state)\n",
        "    return state.unsqueeze(0)\n",
        "\n"
      ],
      "execution_count": null,
      "outputs": []
    },
    {
      "cell_type": "markdown",
      "metadata": {
        "id": "AjjHkioB7SUg"
      },
      "source": [
        "# DQN:"
      ]
    },
    {
      "cell_type": "code",
      "metadata": {
        "id": "SM2GGP07IhOm",
        "colab": {
          "base_uri": "https://localhost:8080/",
          "height": 313
        },
        "outputId": "9e3cfa08-d12f-4d84-8f95-2b25d87272e2"
      },
      "source": [
        "def optimize_model():\n",
        "    if len(memory) < BATCH_SIZE:\n",
        "        return\n",
        "    transitions = memory.sample(BATCH_SIZE)\n",
        "    \"\"\"\n",
        "    zip(*transitions) unzips the transitions into\n",
        "    Transition(*) creates new named tuple\n",
        "    batch.state - tuple of all the states (each state is a tensor)\n",
        "    batch.next_state - tuple of all the next states (each state is a tensor)\n",
        "    batch.reward - tuple of all the rewards (each reward is a float)\n",
        "    batch.action - tuple of all the actions (each action is an int)    \n",
        "    \"\"\"\n",
        "    batch = Transition(*zip(*transitions))\n",
        "    \n",
        "    actions = tuple((map(lambda a: torch.tensor([[a]], device='cuda'), batch.action))) \n",
        "    rewards = tuple((map(lambda r: torch.tensor([r], device='cuda'), batch.reward))) \n",
        "\n",
        "    non_final_mask = torch.tensor(\n",
        "        tuple(map(lambda s: s is not None, batch.next_state)),\n",
        "        device=device, dtype=torch.uint8)\n",
        "    \n",
        "    non_final_next_states = torch.cat([s for s in batch.next_state\n",
        "                                       if s is not None]).to('cuda')\n",
        "    \n",
        "\n",
        "    state_batch = torch.cat(batch.state).to('cuda')\n",
        "    action_batch = torch.cat(actions)\n",
        "    reward_batch = torch.cat(rewards)\n",
        "    \n",
        "    state_action_values = policy_net(state_batch).gather(1, action_batch)\n",
        "    \n",
        "    next_state_values = torch.zeros(BATCH_SIZE, device=device)\n",
        "    next_state_values[non_final_mask] = target_net(non_final_next_states).max(1)[0].detach()\n",
        "    expected_state_action_values = (next_state_values * GAMMA) + reward_batch\n",
        "    \n",
        "    loss = F.smooth_l1_loss(state_action_values, expected_state_action_values.unsqueeze(1))\n",
        "    \n",
        "    optimizer.zero_grad()\n",
        "    loss.backward()\n",
        "    for param in policy_net.parameters():\n",
        "        param.grad.data.clamp_(-1, 1)\n",
        "    optimizer.step()\n",
        "\n",
        "def train(env, n_episodes, render=False):\n",
        "    total_rewards = []\n",
        "    for episode in range(n_episodes):\n",
        "        obs = env.reset()\n",
        "        state = get_state(obs)\n",
        "        total_reward = 0.0\n",
        "        for t in count():\n",
        "            action = select_action(state)\n",
        "\n",
        "            if render:\n",
        "                env.render()\n",
        "\n",
        "            obs, reward, done, info = env.step(action)\n",
        "\n",
        "            total_reward += reward\n",
        "\n",
        "            if not done:\n",
        "                next_state = get_state(obs)\n",
        "            else:\n",
        "                next_state = None\n",
        "\n",
        "            reward = torch.tensor([reward], device=device)\n",
        "\n",
        "            memory.push(state, action.to('cpu'), next_state, reward.to('cpu'))\n",
        "            state = next_state\n",
        "\n",
        "            if steps_done > INITIAL_MEMORY:\n",
        "                optimize_model()\n",
        "\n",
        "                if steps_done % TARGET_UPDATE == 0:\n",
        "                    target_net.load_state_dict(policy_net.state_dict())\n",
        "\n",
        "            if done:\n",
        "                break\n",
        "        total_rewards.append(total_reward)\n",
        "        # if episode % 20 == 0:\n",
        "        plot(steps_done, episode, t, total_rewards,total_reward)      \n",
        "        # print('Total steps: {} \\t Episode: {}/{} \\t Total reward: {}'.format(steps_done, episode, t, total_reward))\n",
        "    env.close()\n",
        "    return\n",
        "\n",
        "if __name__ == '__main__':\n",
        "    # set device\n",
        "    device = torch.device(\"cuda\" if torch.cuda.is_available() else \"cpu\")\n",
        "\n",
        "    # hyperparameters\n",
        "    BATCH_SIZE = 32\n",
        "    GAMMA = 0.99\n",
        "    EPS_START = 1\n",
        "    EPS_END = 0.02\n",
        "    EPS_DECAY = 1000000\n",
        "    TARGET_UPDATE = 1000\n",
        "    RENDER = False\n",
        "    lr = 1e-4\n",
        "    INITIAL_MEMORY = 10000\n",
        "    MEMORY_SIZE = 10 * INITIAL_MEMORY\n",
        "\n",
        "    # create networks\n",
        "    policy_net = DQN(n_actions=4).to(device)\n",
        "    target_net = DQN(n_actions=4).to(device)\n",
        "    target_net.load_state_dict(policy_net.state_dict())\n",
        "\n",
        "    # setup optimizer\n",
        "    optimizer = optim.Adam(policy_net.parameters(), lr=lr)\n",
        "\n",
        "    steps_done = 0\n",
        "\n",
        "    # create environment\n",
        "    env = gym.make(\"PongNoFrameskip-v4\")\n",
        "    env = make_env(env)\n",
        "\n",
        "    # initialize replay memory\n",
        "    memory = ReplayMemory(MEMORY_SIZE)\n",
        "    \n",
        "    # train model\n",
        "    train(env, 400)\n",
        "    # torch.save(policy_net, \"dqn_pong_model\")\n",
        "    # policy_net = torch.load(\"dqn_pong_model\")\n",
        "    # test(env, 1, policy_net, render=False)"
      ],
      "execution_count": null,
      "outputs": [
        {
          "output_type": "display_data",
          "data": {
            "image/png": "[encoded data removed]",
            "text/plain": [
              "<Figure size 432x288 with 1 Axes>"
            ]
          },
          "metadata": {
            "tags": [],
            "needs_background": "dark"
          }
        },
        {
          "output_type": "stream",
          "text": [
            "Total steps: 485369 \t Episode: 399/1491 \t Total reward: -17.0\n"
          ],
          "name": "stdout"
        }
      ]
    },
    {
      "cell_type": "code",
      "metadata": {
        "id": "ygLUXHnp7-K8"
      },
      "source": [
        "total_rewards"
      ],
      "execution_count": null,
      "outputs": []
    },
    {
      "cell_type": "markdown",
      "metadata": {
        "id": "OuZTYkkEJcuL"
      },
      "source": [
        "# DDQN:"
      ]
    },
    {
      "cell_type": "code",
      "metadata": {
        "id": "cosAEesgGnZD"
      },
      "source": [
        "t1 = time.time()\n",
        "def optimize_model():\n",
        "    if len(memory) < BATCH_SIZE:\n",
        "        return\n",
        "    transitions = memory.sample(BATCH_SIZE)\n",
        "    \"\"\"\n",
        "    zip(*transitions) unzips the transitions into\n",
        "    Transition(*) creates new named tuple\n",
        "    batch.state - tuple of all the states (each state is a tensor)\n",
        "    batch.next_state - tuple of all the next states (each state is a tensor)\n",
        "    batch.reward - tuple of all the rewards (each reward is a float)\n",
        "    batch.action - tuple of all the actions (each action is an int)    \n",
        "    \"\"\"\n",
        "    batch = Transition(*zip(*transitions))\n",
        "    \n",
        "    actions = tuple((map(lambda a: torch.tensor([[a]], device='cuda'), batch.action))) \n",
        "    rewards = tuple((map(lambda r: torch.tensor([r], device='cuda'), batch.reward))) \n",
        "\n",
        "    non_final_mask = torch.tensor(\n",
        "        tuple(map(lambda s: s is not None, batch.next_state)),\n",
        "        device=device, dtype=torch.uint8)\n",
        "    \n",
        "    non_final_next_states = torch.cat([s for s in batch.next_state\n",
        "                                       if s is not None]).to('cuda')\n",
        "    \n",
        "\n",
        "    state_batch = torch.cat(batch.state).to('cuda')\n",
        "    action_batch = torch.cat(actions)\n",
        "    reward_batch = torch.cat(rewards)\n",
        "    \n",
        "    state_action_values = policy_net(state_batch).gather(1, action_batch)\n",
        "    \n",
        "    next_state_values = torch.zeros(BATCH_SIZE, device=device)\n",
        "    ###\n",
        "    ###\n",
        "    am = policy_net(non_final_next_states).max(dim=1)[1] #argmaxes!\n",
        "    qs = target_net(non_final_next_states)\n",
        "    next_state_values[non_final_mask] = qs.gather(1, am.reshape(len(am),1)).reshape(len(qs)).detach()\n",
        "    ###\n",
        "    ###\n",
        "    expected_state_action_values = (next_state_values * GAMMA) + reward_batch\n",
        "    \n",
        "    loss = F.smooth_l1_loss(state_action_values, expected_state_action_values.unsqueeze(1))\n",
        "    \n",
        "    optimizer.zero_grad()\n",
        "    loss.backward()\n",
        "    for param in policy_net.parameters():\n",
        "        param.grad.data.clamp_(-1, 1)\n",
        "    optimizer.step()\n",
        "\n",
        "def train(env, n_episodes, render=False):\n",
        "    total_rewards = []\n",
        "    for episode in range(n_episodes):\n",
        "        if steps_done % TARGET_UPDATE == 0:\n",
        "          target_net.load_state_dict(policy_net.state_dict())\n",
        "        obs = env.reset()\n",
        "        state = get_state(obs)\n",
        "        total_reward = 0.0\n",
        "        for t in count():\n",
        "            action = select_action(state)\n",
        "\n",
        "            if render:\n",
        "                env.render()\n",
        "\n",
        "            obs, reward, done, info = env.step(action)\n",
        "\n",
        "            total_reward += reward\n",
        "\n",
        "            if not done:\n",
        "                next_state = get_state(obs)\n",
        "            else:\n",
        "                next_state = None\n",
        "\n",
        "            reward = torch.tensor([reward], device=device)\n",
        "\n",
        "            memory.push(state, action.to('cpu'), next_state, reward.to('cpu'))\n",
        "            state = next_state\n",
        "\n",
        "            if episode > INITIAL_MEMORY:\n",
        "                optimize_model()\n",
        "\n",
        "              # if steps_done % TARGET_UPDATE == 0:\n",
        "              #     target_net.load_state_dict(policy_net.state_dict())\n",
        "\n",
        "            if done:\n",
        "                break\n",
        "        total_rewards.append(total_reward)\n",
        "        # if episode % 20 == 0:\n",
        "        plot(steps_done, episode, t, total_rewards,total_reward)      \n",
        "        # print('Total steps: {} \\t Episode: {}/{} \\t Total reward: {}'.format(steps_done, episode, t, total_reward))\n",
        "    env.close()\n",
        "    return\n",
        "\n",
        "if __name__ == '__main__':\n",
        "    device = torch.device(\"cuda\" if torch.cuda.is_available() else \"cpu\")\n",
        "\n",
        "    BATCH_SIZE = 256\n",
        "    GAMMA = 0.99\n",
        "    EPS_START = 1\n",
        "    EPS_END = 0.01\n",
        "    EPS_DECAY = 1000000\n",
        "    TARGET_UPDATE = 10\n",
        "    RENDER = False\n",
        "    lr = 1e-3\n",
        "    INITIAL_MEMORY = 10000\n",
        "    MEMORY_SIZE = 50 * INITIAL_MEMORY\n",
        "\n",
        "    policy_net = DQN(n_actions=4).to(device)\n",
        "    target_net = DQN(n_actions=4).to(device)\n",
        "    target_net.load_state_dict(policy_net.state_dict())\n",
        "\n",
        "    optimizer = optim.Adam(policy_net.parameters(), lr=lr)\n",
        "\n",
        "    steps_done = 0\n",
        "\n",
        "    env = gym.make(\"PongNoFrameskip-v4\")\n",
        "    env = make_env(env)\n",
        "\n",
        "    memory = ReplayMemory(MEMORY_SIZE)\n",
        "    \n",
        "    train(env, 300)\n",
        "    t2 = time.time()\n",
        "    et_ddqn = t2-t1"
      ],
      "execution_count": null,
      "outputs": []
    },
    {
      "cell_type": "code",
      "metadata": {
        "id": "GaRBu-o38roz"
      },
      "source": [
        "print(et_ddqn)"
      ],
      "execution_count": null,
      "outputs": []
    },
    {
      "cell_type": "code",
      "metadata": {
        "id": "xwAy22v7Agoq"
      },
      "source": [],
      "execution_count": null,
      "outputs": []
    },
    {
      "cell_type": "markdown",
      "metadata": {
        "id": "I1xNNGWt7FnH"
      },
      "source": [
        "# TDQN:"
      ]
    },
    {
      "cell_type": "code",
      "metadata": {
        "id": "aeuFIXRLEm61"
      },
      "source": [
        "  def optimize_model():\n",
        "    if len(memory) < BATCH_SIZE:\n",
        "        return\n",
        "    transitions = memory.sample(BATCH_SIZE)\n",
        "\n",
        "    batch = Transition(*zip(*transitions))\n",
        "    \n",
        "    actions = tuple((map(lambda a: torch.tensor([[a]], device='cuda'), batch.action))) \n",
        "    rewards = tuple((map(lambda r: torch.tensor([r], device='cuda'), batch.reward))) \n",
        "\n",
        "    non_final_mask = torch.tensor(\n",
        "        tuple(map(lambda s: s is not None, batch.next_state)),\n",
        "        device=device, dtype=torch.uint8)\n",
        "    \n",
        "    non_final_next_states = torch.cat([s for s in batch.next_state\n",
        "                                       if s is not None]).to('cuda')\n",
        "    \n",
        "\n",
        "    state_batch = torch.cat(batch.state).to('cuda')\n",
        "    action_batch = torch.cat(actions)\n",
        "    reward_batch = torch.cat(rewards)\n",
        "    \n",
        "    state_action_values = policy_net(state_batch).gather(1, action_batch)\n",
        "    \n",
        "    next_state_values = torch.zeros(BATCH_SIZE, device=device)\n",
        "    ###\n",
        "    ###\n",
        "    am = target_net2(non_final_next_states).max(dim=1)[1] #argmaxes!\n",
        "    qs = target_net(non_final_next_states)\n",
        "    next_state_values[non_final_mask] = qs.gather(1, am.reshape(len(am),1)).reshape(len(qs)).detach()\n",
        "    ###\n",
        "    ###\n",
        "    expected_state_action_values = (next_state_values * GAMMA) + reward_batch\n",
        "    \n",
        "    loss = F.smooth_l1_loss(state_action_values, expected_state_action_values.unsqueeze(1))\n",
        "    \n",
        "    optimizer.zero_grad()\n",
        "    loss.backward()\n",
        "    for param in policy_net.parameters():\n",
        "        param.grad.data.clamp_(-1, 1)\n",
        "    optimizer.step()\n",
        "\n",
        "def train(env, n_episodes, render=False):\n",
        "    total_rewards = []\n",
        "    for episode in range(n_episodes):\n",
        "        obs = env.reset()\n",
        "        state = get_state(obs)\n",
        "        total_reward = 0.0\n",
        "        for t in count():\n",
        "            action = select_action(state)\n",
        "\n",
        "            if render:\n",
        "                env.render()\n",
        "\n",
        "            obs, reward, done, info = env.step(action)\n",
        "\n",
        "            total_reward += reward\n",
        "\n",
        "            if not done:\n",
        "                next_state = get_state(obs)\n",
        "            else:\n",
        "                next_state = None\n",
        "\n",
        "            reward = torch.tensor([reward], device=device)\n",
        "\n",
        "            memory.push(state, action.to('cpu'), next_state, reward.to('cpu'))\n",
        "            state = next_state\n",
        "\n",
        "            if steps_done > INITIAL_MEMORY:\n",
        "                optimize_model()\n",
        "\n",
        "                if steps_done % TARGET_UPDATE == 0:\n",
        "                    target_net.load_state_dict(policy_net.state_dict())\n",
        "\n",
        "                if steps_done % TARGET_UPDATE2 == 0:\n",
        "                    target_net.load_state_dict(policy_net.state_dict())\n",
        "\n",
        "            if done:\n",
        "                break\n",
        "        total_rewards.append(total_reward)\n",
        "        # if episode % 20 == 0:\n",
        "        plot(steps_done, episode, t, total_rewards,total_reward)      \n",
        "        # print('Total steps: {} \\t Episode: {}/{} \\t Total reward: {}'.format(steps_done, episode, t, total_reward))\n",
        "    env.close()\n",
        "    return\n",
        "\n",
        "if __name__ == '__main__':\n",
        "    device = torch.device(\"cuda\" if torch.cuda.is_available() else \"cpu\")\n",
        "\n",
        "    BATCH_SIZE = 32\n",
        "    GAMMA = 0.99\n",
        "    EPS_START = 1\n",
        "    EPS_END = 0.02\n",
        "    EPS_DECAY = 1000000\n",
        "    TARGET_UPDATE = 1000\n",
        "    TARGET_UPDATE2 = 500\n",
        "    RENDER = False\n",
        "    lr = 1e-4\n",
        "    INITIAL_MEMORY = 10000\n",
        "    MEMORY_SIZE = 10 * INITIAL_MEMORY\n",
        "\n",
        "    policy_net = DQN(n_actions=4).to(device)\n",
        "\n",
        "    target_net = DQN(n_actions=4).to(device)\n",
        "    target_net.load_state_dict(policy_net.state_dict())\n",
        "\n",
        "    target_net2 = DQN(n_actions=4).to(device)\n",
        "    target_net2.load_state_dict(policy_net.state_dict())\n",
        "\n",
        "    optimizer = optim.Adam(policy_net.parameters(), lr=lr)\n",
        "\n",
        "    steps_done = 0\n",
        "\n",
        "    env = gym.make(\"PongNoFrameskip-v4\")\n",
        "    env = make_env(env)\n",
        "\n",
        "    memory = ReplayMemory(MEMORY_SIZE)\n",
        "    \n",
        "    train(env, 100)"
      ],
      "execution_count": null,
      "outputs": []
    },
    {
      "cell_type": "markdown",
      "metadata": {
        "id": "CYJ9ledn7IE3"
      },
      "source": [
        "# SDDQN:"
      ]
    },
    {
      "cell_type": "code",
      "metadata": {
        "id": "xWWbd1wV7LXT"
      },
      "source": [
        "  def optimize_model(policy,target1,target2,optimizer_):\n",
        "      if len(memory) < BATCH_SIZE:\n",
        "          return\n",
        "      transitions = memory.sample(BATCH_SIZE)\n",
        "\n",
        "      batch = Transition(*zip(*transitions))\n",
        "      \n",
        "      actions = tuple((map(lambda a: torch.tensor([[a]], device='cuda'), batch.action))) \n",
        "      rewards = tuple((map(lambda r: torch.tensor([r], device='cuda'), batch.reward))) \n",
        "\n",
        "      non_final_mask = torch.tensor(\n",
        "          tuple(map(lambda s: s is not None, batch.next_state)),\n",
        "          device=device, dtype=torch.uint8)\n",
        "      \n",
        "      non_final_next_states = torch.cat([s for s in batch.next_state\n",
        "                                        if s is not None]).to('cuda')\n",
        "      \n",
        "\n",
        "      state_batch = torch.cat(batch.state).to('cuda')\n",
        "      action_batch = torch.cat(actions)\n",
        "      reward_batch = torch.cat(rewards)\n",
        "      \n",
        "      state_action_values = policy(state_batch).gather(1, action_batch)\n",
        "      \n",
        "      next_state_values = torch.zeros(BATCH_SIZE, device=device)\n",
        "      ###\n",
        "      ###\n",
        "      am = target2(non_final_next_states).max(dim=1)[1] #argmaxes!\n",
        "      qs = target1(non_final_next_states)\n",
        "      next_state_values[non_final_mask] = qs.gather(1, am.reshape(len(am),1)).reshape(len(qs)).detach()\n",
        "      ###\n",
        "      ###\n",
        "      expected_state_action_values = (next_state_values * GAMMA) + reward_batch\n",
        "      \n",
        "      loss = F.smooth_l1_loss(state_action_values, expected_state_action_values.unsqueeze(1))\n",
        "      \n",
        "      optimizer_.zero_grad()\n",
        "      loss.backward()\n",
        "      for param in policy.parameters():\n",
        "          param.grad.data.clamp_(-1, 1)\n",
        "      optimizer_.step()\n",
        "\n",
        "def train(env, n_episodes, render=False):\n",
        "    total_rewards = []\n",
        "    for episode in range(n_episodes):\n",
        "        obs = env.reset()\n",
        "        state = get_state(obs)\n",
        "        total_reward = 0.0\n",
        "        for t in count():\n",
        "            action = select_action(state)\n",
        "\n",
        "            if render:\n",
        "                env.render()\n",
        "\n",
        "            obs, reward, done, info = env.step(action)\n",
        "\n",
        "            total_reward += reward\n",
        "\n",
        "            if not done:\n",
        "                next_state = get_state(obs)\n",
        "            else:\n",
        "                next_state = None\n",
        "\n",
        "            reward = torch.tensor([reward], device=device)\n",
        "\n",
        "            memory.push(state, action.to('cpu'), next_state, reward.to('cpu'))\n",
        "            state = next_state\n",
        "\n",
        "            if steps_done > INITIAL_MEMORY:\n",
        "                optimize_model(policy_net,targe_net,target_net2,optimizer1)\n",
        "                optimize_model(policy_net2,targe_net2,target_net,optimizer2)\n",
        "\n",
        "                if steps_done % TARGET_UPDATE == 0:\n",
        "                    target_net.load_state_dict(policy_net.state_dict())\n",
        "\n",
        "                if steps_done % TARGET_UPDATE2 == 0:\n",
        "                    target_net2.load_state_dict(policy_net2.state_dict())\n",
        "\n",
        "            if done:\n",
        "                break\n",
        "        total_rewards.append(total_reward)\n",
        "        # if episode % 20 == 0:\n",
        "        plot(steps_done, episode, t, total_rewards,total_reward)      \n",
        "        # print('Total steps: {} \\t Episode: {}/{} \\t Total reward: {}'.format(steps_done, episode, t, total_reward))\n",
        "    env.close()\n",
        "    return\n",
        "\n",
        "if __name__ == '__main__':\n",
        "    device = torch.device(\"cuda\" if torch.cuda.is_available() else \"cpu\")\n",
        "\n",
        "    BATCH_SIZE = 32\n",
        "    GAMMA = 0.99\n",
        "    EPS_START = 1\n",
        "    EPS_END = 0.02\n",
        "    EPS_DECAY = 1000000\n",
        "    TARGET_UPDATE = 1000\n",
        "    TARGET_UPDATE2 = 1000\n",
        "    RENDER = False\n",
        "    lr = 1e-4\n",
        "    INITIAL_MEMORY = 10000\n",
        "    MEMORY_SIZE = 10 * INITIAL_MEMORY\n",
        "\n",
        "    policy_net = DQN(n_actions=4).to(device)\n",
        "    policy_net2 = DQN(n_actions=4).to(device)\n",
        "\n",
        "    target_net = DQN(n_actions=4).to(device)\n",
        "    target_net.load_state_dict(policy_net.state_dict())\n",
        "\n",
        "    target_net2 = DQN(n_actions=4).to(device)\n",
        "    target_net2.load_state_dict(policy_net.state_dict())\n",
        "\n",
        "    optimizer = optim.Adam(policy_net.parameters(), lr=lr)\n",
        "    optimizer2 = optim.Adam(policy_net2.parameters(), lr=lr)\n",
        "\n",
        "    steps_done = 0\n",
        "\n",
        "    env = gym.make(\"PongNoFrameskip-v4\")\n",
        "    env = make_env(env)\n",
        "\n",
        "    memory = ReplayMemory(MEMORY_SIZE)\n",
        "    \n",
        "    train(env, 100)"
      ],
      "execution_count": null,
      "outputs": []
    },
    {
      "cell_type": "markdown",
      "metadata": {
        "id": "_BMC9Rup7L7u"
      },
      "source": [
        "# FDDQN:"
      ]
    },
    {
      "cell_type": "code",
      "metadata": {
        "id": "Oc_-TIEB7Np8"
      },
      "source": [
        "  def optimize_model(policy,target1,target2,optimizer_):\n",
        "      if len(memory) < BATCH_SIZE:\n",
        "          return\n",
        "      transitions = memory.sample(BATCH_SIZE)\n",
        "\n",
        "      batch = Transition(*zip(*transitions))\n",
        "      \n",
        "      actions = tuple((map(lambda a: torch.tensor([[a]], device='cuda'), batch.action))) \n",
        "      rewards = tuple((map(lambda r: torch.tensor([r], device='cuda'), batch.reward))) \n",
        "\n",
        "      non_final_mask = torch.tensor(\n",
        "          tuple(map(lambda s: s is not None, batch.next_state)),\n",
        "          device=device, dtype=torch.uint8)\n",
        "      \n",
        "      non_final_next_states = torch.cat([s for s in batch.next_state\n",
        "                                        if s is not None]).to('cuda')\n",
        "      \n",
        "\n",
        "      state_batch = torch.cat(batch.state).to('cuda')\n",
        "      action_batch = torch.cat(actions)\n",
        "      reward_batch = torch.cat(rewards)\n",
        "      \n",
        "      state_action_values = policy(state_batch).gather(1, action_batch)\n",
        "      \n",
        "      next_state_values = torch.zeros(BATCH_SIZE, device=device)\n",
        "      ###\n",
        "      ###\n",
        "      am = target2(non_final_next_states).max(dim=1)[1] #argmaxes!\n",
        "      qs = target1(non_final_next_states)\n",
        "      next_state_values[non_final_mask] = qs.gather(1, am.reshape(len(am),1)).reshape(len(qs)).detach()\n",
        "      ###\n",
        "      ###\n",
        "      expected_state_action_values = (next_state_values * GAMMA) + reward_batch\n",
        "      \n",
        "      loss = F.smooth_l1_loss(state_action_values, expected_state_action_values.unsqueeze(1))\n",
        "      \n",
        "      optimizer_.zero_grad()\n",
        "      loss.backward()\n",
        "      for param in policy.parameters():\n",
        "          param.grad.data.clamp_(-1, 1)\n",
        "      optimizer_.step()\n",
        "\n",
        "def train(env, n_episodes, render=False):\n",
        "    total_rewards = []\n",
        "    for episode in range(n_episodes):\n",
        "        obs = env.reset()\n",
        "        state = get_state(obs)\n",
        "        total_reward = 0.0\n",
        "        for t in count():\n",
        "            action = select_action(state)\n",
        "\n",
        "            if render:\n",
        "                env.render()\n",
        "\n",
        "            obs, reward, done, info = env.step(action)\n",
        "\n",
        "            total_reward += reward\n",
        "\n",
        "            if not done:\n",
        "                next_state = get_state(obs)\n",
        "            else:\n",
        "                next_state = None\n",
        "\n",
        "            reward = torch.tensor([reward], device=device)\n",
        "\n",
        "            memory.push(state, action.to('cpu'), next_state, reward.to('cpu'))\n",
        "            state = next_state\n",
        "\n",
        "            if steps_done > INITIAL_MEMORY:\n",
        "                optimize_model(policy_net,targe_net,target_net2,optimizer1)\n",
        "                optimize_model(policy_net2,targe_net2,target_net,optimizer2)\n",
        "\n",
        "                if steps_done % TARGET_UPDATE == 0:\n",
        "                    target_net.load_state_dict(policy_net.state_dict())\n",
        "\n",
        "                if steps_done % TARGET_UPDATE2 == 0:\n",
        "                    target_net2.load_state_dict(policy_net2.state_dict())\n",
        "\n",
        "            if done:\n",
        "                break\n",
        "        total_rewards.append(total_reward)\n",
        "        # if episode % 20 == 0:\n",
        "        plot(steps_done, episode, t, total_rewards,total_reward)      \n",
        "        # print('Total steps: {} \\t Episode: {}/{} \\t Total reward: {}'.format(steps_done, episode, t, total_reward))\n",
        "    env.close()\n",
        "    return\n",
        "\n",
        "if __name__ == '__main__':\n",
        "    device = torch.device(\"cuda\" if torch.cuda.is_available() else \"cpu\")\n",
        "\n",
        "    BATCH_SIZE = 32\n",
        "    GAMMA = 0.99\n",
        "    EPS_START = 1\n",
        "    EPS_END = 0.02\n",
        "    EPS_DECAY = 1000000\n",
        "    TARGET_UPDATE = 1000\n",
        "    TARGET_UPDATE2 = 1000\n",
        "    RENDER = False\n",
        "    lr = 1e-4\n",
        "    INITIAL_MEMORY = 10000\n",
        "    MEMORY_SIZE = 10 * INITIAL_MEMORY\n",
        "\n",
        "    policy_net = DQN(n_actions=4).to(device)\n",
        "    policy_net2 = DQN(n_actions=4).to(device)\n",
        "\n",
        "    target_net = DQN(n_actions=4).to(device)\n",
        "    target_net.load_state_dict(policy_net.state_dict())\n",
        "\n",
        "    target_net2 = DQN(n_actions=4).to(device)\n",
        "    target_net2.load_state_dict(policy_net.state_dict())\n",
        "\n",
        "    optimizer = optim.Adam(policy_net.parameters(), lr=lr)\n",
        "    optimizer2 = optim.Adam(policy_net2.parameters(), lr=lr)\n",
        "\n",
        "    steps_done = 0\n",
        "\n",
        "    env = gym.make(\"PongNoFrameskip-v4\")\n",
        "    env = make_env(env)\n",
        "\n",
        "    memory = ReplayMemory(MEMORY_SIZE)\n",
        "    \n",
        "    train(env, 100)"
      ],
      "execution_count": null,
      "outputs": []
    },
    {
      "cell_type": "markdown",
      "metadata": {
        "id": "t99w__SSeatL"
      },
      "source": [
        "# Complementaries:"
      ]
    },
    {
      "cell_type": "markdown",
      "metadata": {
        "id": "ihCrf6WUe1gN"
      },
      "source": [
        "## save notebook:"
      ]
    },
    {
      "cell_type": "code",
      "metadata": {
        "id": "gn0lSd_OecfJ"
      },
      "source": [
        "# pip install dill\n",
        "\n",
        "# import dill\n",
        "# dill.dump_session('notebook_env.db')\n",
        "\n",
        "# dill.load_session('notebook_env.db')"
      ],
      "execution_count": null,
      "outputs": []
    },
    {
      "cell_type": "markdown",
      "metadata": {
        "id": "xudbg663e950"
      },
      "source": [
        "## save variables:"
      ]
    },
    {
      "cell_type": "code",
      "metadata": {
        "id": "9hPsFat0e_vL"
      },
      "source": [
        "# import pickle\n",
        "\n",
        "# f = open('store.pkl', 'wb')\n",
        "# pickle.dump(obj, f)\n",
        "# f.close()\n",
        "\n",
        "# f = open('store.pkl', 'rb')\n",
        "# obj = pickle.load(f)\n",
        "# f.close()\n",
        "##############################\n",
        "# import pickle\n",
        "\n",
        "# # obj0, obj1, obj2 are created here...\n",
        "\n",
        "# # Saving the objects:\n",
        "# with open('objs.pkl', 'w') as f:  # Python 3: open(..., 'wb')\n",
        "#     pickle.dump([obj0, obj1, obj2], f)\n",
        "\n",
        "# # Getting back the objects:\n",
        "# with open('objs.pkl') as f:  # Python 3: open(..., 'rb')\n",
        "#     obj0, obj1, obj2 = pickle.load(f)"
      ],
      "execution_count": null,
      "outputs": []
    },
    {
      "cell_type": "markdown",
      "metadata": {
        "id": "6yQAtlmDfAtY"
      },
      "source": [
        "### Tesnsorboard:"
      ]
    },
    {
      "cell_type": "code",
      "metadata": {
        "id": "bYEBj4_jfAKr"
      },
      "source": [
        "# try:\n",
        "#   %tensorflow_version 2.x\n",
        "#   %load_ext tensorboard\n",
        "# except:\n",
        "#   pass\n",
        "\n",
        "####################33\n",
        "\n",
        "# %tensorboard --logdir 'logs'"
      ],
      "execution_count": null,
      "outputs": []
    },
    {
      "cell_type": "markdown",
      "metadata": {
        "id": "_REM3jRjgh0T"
      },
      "source": [
        "## Tensorboard/Pytorch:"
      ]
    },
    {
      "cell_type": "code",
      "metadata": {
        "id": "Z26mCKvcgmvz"
      },
      "source": [
        "# from torch.utils.tensorboard import SummaryWriter\n",
        "# tb = SummaryWriter(log_dir = '')\n",
        "# tb.add_scalar('Loss', total_loss, epoch)\n",
        "# tensorboard --logdir=runs\n",
        "# http://localhost:6006"
      ],
      "execution_count": null,
      "outputs": []
    },
    {
      "cell_type": "markdown",
      "metadata": {
        "id": "tEDHqIl0gXEJ"
      },
      "source": [
        "## Execution Time:"
      ]
    },
    {
      "cell_type": "code",
      "metadata": {
        "id": "P1X31jDdgasn"
      },
      "source": [
        "# import time\n",
        "# t1 = time.time()\n",
        "# t2 = time.time()\n",
        "# print(t2-t1)"
      ],
      "execution_count": null,
      "outputs": []
    }
  ]
}