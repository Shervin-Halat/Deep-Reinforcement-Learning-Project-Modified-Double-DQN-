{
  "nbformat": 4,
  "nbformat_minor": 0,
  "metadata": {
    "colab": {
      "provenance": [],
      "collapsed_sections": []
    },
    "kernelspec": {
      "name": "python3",
      "display_name": "Python 3"
    },
    "language_info": {
      "name": "python"
    },
    "accelerator": "GPU"
  },
  "cells": [
    {
      "cell_type": "code",
      "metadata": {
        "id": "1XDvssQd64Pf"
      },
      "source": [
        "!apt-get install -y xvfb python-opengl > /dev/null 2>&1"
      ],
      "execution_count": null,
      "outputs": []
    },
    {
      "cell_type": "code",
      "metadata": {
        "id": "F5esgX013vPe"
      },
      "source": [
        "!pip install gym pyvirtualdisplay > /dev/null 2>&1"
      ],
      "execution_count": null,
      "outputs": []
    },
    {
      "cell_type": "code",
      "metadata": {
        "id": "FGqXqJxoAsHG",
        "colab": {
          "base_uri": "https://localhost:8080/"
        },
        "outputId": "0c00d400-b16c-4a4c-f491-b3e224a30fa8"
      },
      "source": [
        "from pyvirtualdisplay import Display\n",
        "display = Display(visible=0, size=(400, 300))\n",
        "display.start()"
      ],
      "execution_count": null,
      "outputs": [
        {
          "output_type": "execute_result",
          "data": {
            "text/plain": [
              "<pyvirtualdisplay.display.Display at 0x7f80977f2890>"
            ]
          },
          "metadata": {
            "tags": []
          },
          "execution_count": 3
        }
      ]
    },
    {
      "cell_type": "code",
      "metadata": {
        "id": "CljbIYnr9KrA"
      },
      "source": [
        "%matplotlib inline\n",
        "from IPython import display as ipythondisplay\n",
        "import gym\n",
        "import math\n",
        "import random\n",
        "import numpy as np\n",
        "import matplotlib\n",
        "import matplotlib.pyplot as plt\n",
        "from collections import namedtuple\n",
        "from itertools import count\n",
        "from PIL import Image\n",
        "import torch\n",
        "import torch.nn as nn\n",
        "import torch.optim as optim\n",
        "import torch.nn.functional as F\n",
        "import torchvision.transforms as T  \n",
        "\n",
        "device = torch.device(\"cuda\" if torch.cuda.is_available() else \"cpu\")\n",
        "\n",
        "is_ipython = 'inline' in matplotlib.get_backend()\n",
        "if is_ipython: from IPython import display\n",
        "\n",
        "# from IPython import display\n",
        "\n",
        "plt.style.use(['dark_background'])\n",
        "%matplotlib inline\n",
        "\n",
        "class DQN(nn.Module):\n",
        "    def __init__(self, h, w):\n",
        "        super().__init__()    \n",
        "    #     self.fc1 = nn.Linear(in_features=img_height*img_width*3, out_features=24)   \n",
        "    #     self.fc2 = nn.Linear(in_features=24, out_features=32)\n",
        "    #     self.out = nn.Linear(in_features=32, out_features=2)\n",
        "    # def forward(self, t):\n",
        "    #     t = t.flatten(start_dim=1)\n",
        "    #     t = F.relu(self.fc1(t))\n",
        "    #     t = F.relu(self.fc2(t))\n",
        "    #     t = self.out(t)\n",
        "\n",
        "        self.conv1 = nn.Conv2d(3, 16, kernel_size=5, stride=2)\n",
        "        # self.bn1 = nn.BatchNorm2d(16)\n",
        "        self.conv2 = nn.Conv2d(16, 32, kernel_size=5, stride=2)\n",
        "        # self.bn2 = nn.BatchNorm2d(32)\n",
        "        self.conv3 = nn.Conv2d(32, 32, kernel_size=5, stride=2)\n",
        "        # self.bn3 = nn.BatchNorm2d(32)\n",
        "\n",
        "    #     # Number of Linear input connections depends on output of conv2d layers\n",
        "    #     # and therefore the input image size, so compute it.\n",
        "        def conv2d_size_out(size, kernel_size = 5, stride = 2):\n",
        "            return (size - (kernel_size - 1) - 1) // stride  + 1\n",
        "        convw = conv2d_size_out(conv2d_size_out(conv2d_size_out(w)))\n",
        "        convh = conv2d_size_out(conv2d_size_out(conv2d_size_out(h)))\n",
        "        linear_input_size = convw * convh * 32\n",
        "        self.fc1 = nn.Linear(linear_input_size, linear_input_size//2)\n",
        "        self.head = nn.Linear(linear_input_size//2, 2)\n",
        "\n",
        "    # # Called with either one element to determine next action, or a batch\n",
        "    # # during optimization. Returns tensor([[left0exp,right0exp]...]).\n",
        "    def forward(self, x):\n",
        "        x = x.to(device)\n",
        "        x = F.relu(self.conv1(x))\n",
        "        x = F.relu(self.conv2(x))\n",
        "        x = F.relu(self.conv3(x))\n",
        "        x = F.relu(self.fc1(x.view(x.size(0), -1)))\n",
        "        return self.head(x)\n",
        "\n",
        "Experience = namedtuple(\n",
        "    'Experience',\n",
        "    ('state', 'action', 'next_state', 'reward')\n",
        ")\n",
        "\n",
        "class ReplayMemory():\n",
        "    def __init__(self, capacity):\n",
        "        self.capacity = capacity\n",
        "        self.memory = []\n",
        "        self.push_count = 0\n",
        "    def push(self, experience):\n",
        "        if len(self.memory) < self.capacity:\n",
        "            self.memory.append(experience)\n",
        "        else:\n",
        "            self.memory[self.push_count % self.capacity] = experience\n",
        "        self.push_count += 1\n",
        "    def sample(self, batch_size):\n",
        "        return random.sample(self.memory, batch_size)\n",
        "    def can_provide_sample(self, batch_size):\n",
        "        return len(self.memory) >= batch_size\n",
        "\n",
        "class EpsilonGreedyStrategy():\n",
        "    def __init__(self, start, end, decay):\n",
        "        self.start = start\n",
        "        self.end = end\n",
        "        self.decay = decay\n",
        "    def get_exploration_rate(self, current_step):\n",
        "        return self.end + (self.start - self.end) * \\\n",
        "            math.exp(-1. * current_step * self.decay)\n",
        "\n",
        "class Agent():\n",
        "    def __init__(self, strategy, num_actions, device):\n",
        "        self.current_step = 0\n",
        "        self.strategy = strategy\n",
        "        self.num_actions = num_actions\n",
        "        self.device = device\n",
        "    def select_action(self, state, policy_net):\n",
        "        rate = self.strategy.get_exploration_rate(self.current_step)\n",
        "        self.current_step += 1\n",
        "\n",
        "        if rate > random.random():\n",
        "            random.randrange(self.num_actions)\n",
        "            return torch.tensor(random.randrange(self.num_actions)) # explore   \n",
        "        else:\n",
        "            with torch.no_grad():\n",
        "                return policy_net(state).argmax(dim=1).to(self.device)\n",
        "\n",
        "class CartPoleEnvManager():\n",
        "    def __init__(self, device):\n",
        "        self.device = device\n",
        "        self.env = gym.make('CartPole-v0').unwrapped\n",
        "        self.env.reset()\n",
        "        self.current_screen = None\n",
        "        self.done = False\n",
        "        \n",
        "    def reset(self):\n",
        "        self.env.reset()\n",
        "        self.current_screen = None\n",
        "\n",
        "    def close(self):\n",
        "        self.env.close()\n",
        "\n",
        "    def render(self, mode='human'):\n",
        "        return self.env.render(mode)\n",
        "    def num_actions_available(self):\n",
        "        return self.env.action_space.n\n",
        "    def take_action(self, action):        \n",
        "        _, reward, self.done, _ = self.env.step(action.item())\n",
        "        return torch.tensor([reward], device=self.device)\n",
        "    def just_starting(self):\n",
        "        return self.current_screen is None\n",
        "    def get_state(self):\n",
        "        if self.just_starting() or self.done:\n",
        "            self.current_screen = self.get_processed_screen()\n",
        "            black_screen = torch.zeros_like(self.current_screen)\n",
        "            return black_screen\n",
        "        else:\n",
        "            s1 = self.current_screen\n",
        "            s2 = self.get_processed_screen()\n",
        "            self.current_screen = s2\n",
        "            return s2 - s1\n",
        "    def get_screen_height(self):\n",
        "        screen = self.get_processed_screen()\n",
        "        return screen.shape[2]\n",
        "\n",
        "    def get_screen_width(self):\n",
        "        screen = self.get_processed_screen()\n",
        "        return screen.shape[3]\n",
        "    def get_processed_screen(self):\n",
        "        screen = self.render('rgb_array').transpose((2, 0, 1)) # PyTorch expects CHW\n",
        "        screen = self.crop_screen(screen)\n",
        "        return self.transform_screen_data(screen)\n",
        "    def crop_screen(self, screen):\n",
        "        screen_height = screen.shape[1]\n",
        "\n",
        "        # Strip off top and bottom\n",
        "        top = int(screen_height * 0.4)\n",
        "        bottom = int(screen_height * 0.8)\n",
        "        screen = screen[:, top:bottom, :]\n",
        "        return screen\n",
        "    def transform_screen_data(self, screen):       \n",
        "        # Convert to float, rescale, convert to tensor\n",
        "        screen = np.ascontiguousarray(screen, dtype=np.float32) / 255\n",
        "        screen = torch.from_numpy(screen)\n",
        "\n",
        "        # Use torchvision package to compose image transforms\n",
        "        resize = T.Compose([\n",
        "            T.ToPILImage()\n",
        "            ,T.Resize((40,90))\n",
        "            ,T.ToTensor()\n",
        "        ])\n",
        "\n",
        "        return resize(screen).unsqueeze(0).to(self.device) # add a batch dimension (BCHW)\n",
        "\n",
        "\n",
        "def plot(values, moving_avg_period):\n",
        "    plt.figure(2)\n",
        "    plt.clf()        \n",
        "    plt.title('Training...')\n",
        "    plt.xlabel('Episode')\n",
        "    plt.ylabel('Duration')\n",
        "    plt.plot(values)\n",
        "\n",
        "    moving_avg = get_moving_average(moving_avg_period, values)\n",
        "    plt.plot(moving_avg)    \n",
        "    plt.pause(0.001)\n",
        "    print(\"Episode\", len(values), \"\\n\", \\\n",
        "        moving_avg_period, \"episode moving avg:\", moving_avg[-1])\n",
        "    # print(moving_avg.max(),np.argmax(moving_avg))\n",
        "    if is_ipython: display.clear_output(wait=True)\n",
        "\n",
        "def plot2(values, moving_avg_period,steps_list):\n",
        "    plt.figure(2)\n",
        "    plt.clf()        \n",
        "    plt.title('Training...')\n",
        "    plt.xlabel('Episode')\n",
        "    plt.ylabel('Duration')\n",
        "    plt.plot(steps_list,values)\n",
        "\n",
        "    moving_avg = get_moving_average(moving_avg_period, values)\n",
        "    plt.plot(steps_list,moving_avg)    \n",
        "    plt.pause(0.001)\n",
        "    print(\"Episode\", len(values), \"\\n\", \\\n",
        "        moving_avg_period, \"episode moving avg:\", moving_avg[-1])\n",
        "    if is_ipython: display.clear_output(wait=True)\n",
        "        \n",
        "def get_moving_average(period, values):\n",
        "    values = torch.tensor(values, dtype=torch.float)\n",
        "    if len(values) >= period:\n",
        "        moving_avg = values.unfold(dimension=0, size=period, step=1) \\\n",
        "            .mean(dim=1).flatten(start_dim=0)\n",
        "        moving_avg = torch.cat((torch.zeros(period-1), moving_avg))\n",
        "        return moving_avg.numpy()\n",
        "    else:\n",
        "        moving_avg = torch.zeros(len(values))\n",
        "        return moving_avg.numpy()\n",
        "\n",
        "def extract_tensors(experiences):\n",
        "    # Convert batch of Experiences to Experience of batches\n",
        "    batch = Experience(*zip(*experiences))\n",
        "    t1 = torch.cat(batch.state)\n",
        "    t2 = torch.cat(batch.action)\n",
        "    t3 = torch.cat(batch.reward)\n",
        "    t4 = torch.cat(batch.next_state)\n",
        "\n",
        "    return (t1,t2,t3,t4)\n"
      ],
      "execution_count": null,
      "outputs": []
    },
    {
      "cell_type": "code",
      "metadata": {
        "id": "l_TEMyIP-CBO"
      },
      "source": [
        "import os\n",
        "import pickle\n",
        "import time"
      ],
      "execution_count": null,
      "outputs": []
    },
    {
      "cell_type": "markdown",
      "metadata": {
        "id": "lJjWLMN080P3"
      },
      "source": [
        "# DDQN:"
      ]
    },
    {
      "cell_type": "code",
      "metadata": {
        "colab": {
          "base_uri": "https://localhost:8080/",
          "height": 348
        },
        "id": "qNqI-f1r7i0G",
        "outputId": "e24acef9-ebe7-4fd4-d458-e57dbfd5be4d"
      },
      "source": [
        "t1 = time.time()\n",
        "class QValues():\n",
        "    device = torch.device(\"cuda\" if torch.cuda.is_available() else \"cpu\")\n",
        "    \n",
        "    @staticmethod\n",
        "    def get_current(policy_net, states, actions):\n",
        "        return policy_net(states).gather(dim=1, index=actions.unsqueeze(-1))\n",
        "    \n",
        "    @staticmethod        \n",
        "    def get_next(target_net, next_states, policy_net):                \n",
        "        final_state_locations = next_states.flatten(start_dim=1) \\\n",
        "            .max(dim=1)[0].eq(0).type(torch.bool)\n",
        "        non_final_state_locations = (final_state_locations == False)\n",
        "        non_final_states = next_states[non_final_state_locations]\n",
        "        batch_size = next_states.shape[0]\n",
        "        values = torch.zeros(batch_size).to(QValues.device)\n",
        "        \n",
        "        am = policy_net(non_final_states).max(dim=1)[1] #argmaxes!\n",
        "        qs = target_net(non_final_states)\n",
        "        \n",
        "        values[non_final_state_locations] = qs.gather(1, am.reshape(len(am),1)).reshape(len(qs)).detach()\n",
        "        return values\n",
        "\n",
        "# batch_size = 256\n",
        "# gamma = 0.99\n",
        "# eps_start = 1\n",
        "# eps_end = 0.01\n",
        "# eps_decay = 0.001\n",
        "# target_update = 50\n",
        "# # target_update2 = 25\n",
        "# # target_update3 = 50\n",
        "# memory_size = 5000\n",
        "# lr = 0.001\n",
        "# num_episodes = 1000\n",
        "\n",
        "batch_size = 256\n",
        "gamma = 0.99\n",
        "eps_start = 1\n",
        "eps_end = 0.01\n",
        "eps_decay = 0.001\n",
        "# target_update = 20\n",
        "target_update = 10\n",
        "target_update2 = 5\n",
        "memory_size = 50000\n",
        "lr = 0.001\n",
        "num_episodes = 1500\n",
        "\n",
        "em = CartPoleEnvManager(device)\n",
        "strategy = EpsilonGreedyStrategy(eps_start, eps_end, eps_decay)\n",
        "\n",
        "agent = Agent(strategy, em.num_actions_available(), device)\n",
        "memory = ReplayMemory(memory_size)\n",
        "\n",
        "policy_net = DQN(em.get_screen_height(), em.get_screen_width()).to(device)\n",
        "target_net = DQN(em.get_screen_height(), em.get_screen_width()).to(device)\n",
        "\n",
        "target_net.load_state_dict(policy_net.state_dict())\n",
        "target_net.eval()\n",
        "\n",
        "optimizer = optim.Adam(params=policy_net.parameters(), lr=lr)\n",
        "\n",
        "episode_durations_ddqn = []\n",
        "\n",
        "#####\n",
        "steps = 0\n",
        "steps_list_ddqn = []\n",
        "#####\n",
        "\n",
        "for episode in range(num_episodes):\n",
        "    em.reset()\n",
        "    state = em.get_state()\n",
        "    for timestep in count():\n",
        "        action = (agent.select_action(state, policy_net)).reshape(1).cuda()\n",
        "        #!!!!!!!!!!!!!!!!!!!!!!!!!!!!!!!!!!!!!!!!!!!!!!!!!!!!!!!\n",
        "        # action = (agent.select_action(state, policy_net)).reshape(1)\n",
        "        reward = em.take_action(action)\n",
        "        next_state = em.get_state()\n",
        "#         print(action)\n",
        "        memory.push(Experience(state, action, next_state, reward))\n",
        "        state = next_state\n",
        "        if memory.can_provide_sample(batch_size):\n",
        "            experiences = memory.sample(batch_size)\n",
        "            states, actions, rewards, next_states = extract_tensors(experiences)\n",
        "\n",
        "            current_q_values = QValues.get_current(policy_net, states, actions)\n",
        "            next_q_values = QValues.get_next(target_net, next_states, policy_net)\n",
        "            target_q_values = (next_q_values * gamma) + rewards\n",
        "\n",
        "            loss = F.mse_loss(current_q_values, target_q_values.unsqueeze(1))\n",
        "            optimizer.zero_grad()\n",
        "            loss.backward()\n",
        "            optimizer.step()\n",
        "        if em.done:\n",
        "            #####\n",
        "            steps += timestep\n",
        "            steps_list_ddqn.append(steps)\n",
        "            #####\n",
        "\n",
        "            episode_durations_ddqn.append(timestep)\n",
        "            print(steps)\n",
        "            plot(episode_durations_ddqn, 100)\n",
        "            break\n",
        "    if episode % target_update == 0:\n",
        "        target_net.load_state_dict(policy_net.state_dict())\n",
        "em.close()\n",
        "t2 = time.time()"
      ],
      "execution_count": null,
      "outputs": [
        {
          "output_type": "stream",
          "text": [
            "108320\n"
          ],
          "name": "stdout"
        },
        {
          "output_type": "display_data",
          "data": {
            "image/png": "[encoded data removed]",
            "text/plain": [
              "<Figure size 432x288 with 1 Axes>"
            ]
          },
          "metadata": {
            "tags": [],
            "needs_background": "dark"
          }
        },
        {
          "output_type": "stream",
          "text": [
            "Episode 1500 \n",
            " 100 episode moving avg: 92.9\n"
          ],
          "name": "stdout"
        }
      ]
    },
    {
      "cell_type": "code",
      "metadata": {
        "colab": {
          "base_uri": "https://localhost:8080/"
        },
        "id": "YyxjPMcv8nv2",
        "outputId": "8a30ca38-be34-4bda-dea7-dd10bd5f59fe"
      },
      "source": [
        "moving_avg_ddqn = get_moving_average(100, episode_durations_ddqn)\n",
        "print('best duration obtained: ',moving_avg_ddqn.max(),'\\nat episode: ', np.argmax(moving_avg_ddqn))"
      ],
      "execution_count": null,
      "outputs": [
        {
          "output_type": "stream",
          "text": [
            "best duration obtained:  104.63 \n",
            "at episode:  1304\n"
          ],
          "name": "stdout"
        }
      ]
    },
    {
      "cell_type": "code",
      "metadata": {
        "id": "YZkLYYpg_EYd"
      },
      "source": [
        "ex_ddqn = t2-t1\n",
        "path_ddqn = '/content/drive/MyDrive/DRL/Cart_CNN/ddqn_scalars3.pkl'\n",
        "obj_ddqn = [episode_durations_ddqn,moving_avg_ddqn,ex_ddqn,steps_list_ddqn]\n",
        "f = open(path_ddqn, 'wb')\n",
        "pickle.dump(obj_ddqn, f)\n",
        "f.close()"
      ],
      "execution_count": null,
      "outputs": []
    },
    {
      "cell_type": "code",
      "metadata": {
        "colab": {
          "base_uri": "https://localhost:8080/"
        },
        "id": "iCBAYP5l_mZm",
        "outputId": "00b355e7-f903-4c73-883f-7f0e168f3b6d"
      },
      "source": [
        "print(ex_ddqn)"
      ],
      "execution_count": null,
      "outputs": [
        {
          "output_type": "stream",
          "text": [
            "2232.9965064525604\n"
          ],
          "name": "stdout"
        }
      ]
    },
    {
      "cell_type": "markdown",
      "metadata": {
        "id": "BnmTNVZGcA5B"
      },
      "source": [
        "# TDQN:"
      ]
    },
    {
      "cell_type": "code",
      "metadata": {
        "colab": {
          "base_uri": "https://localhost:8080/",
          "height": 348
        },
        "id": "2izAjXoRcA5C",
        "outputId": "6fc9ddf2-1a5f-4e20-9783-fb0bfaf0dec5"
      },
      "source": [
        "t1 = time.time()\n",
        "class QValues():\n",
        "    device = torch.device(\"cuda\" if torch.cuda.is_available() else \"cpu\")\n",
        "    \n",
        "    @staticmethod\n",
        "    def get_current(policy_net, states, actions):\n",
        "        return policy_net(states).gather(dim=1, index=actions.unsqueeze(-1))\n",
        "    \n",
        "    @staticmethod        \n",
        "    def get_next(target_net, next_states, policy_net):                \n",
        "        final_state_locations = next_states.flatten(start_dim=1) \\\n",
        "            .max(dim=1)[0].eq(0).type(torch.bool)\n",
        "        non_final_state_locations = (final_state_locations == False)\n",
        "        non_final_states = next_states[non_final_state_locations]\n",
        "        batch_size = next_states.shape[0]\n",
        "        values = torch.zeros(batch_size).to(QValues.device)\n",
        "        \n",
        "        am = policy_net(non_final_states).max(dim=1)[1] #argmaxes!\n",
        "        qs = target_net(non_final_states)\n",
        "        \n",
        "        values[non_final_state_locations] = qs.gather(1, am.reshape(len(am),1)).reshape(len(qs)).detach()\n",
        "        return values\n",
        "\n",
        "# batch_size = 256\n",
        "# gamma = 0.99\n",
        "# eps_start = 1\n",
        "# eps_end = 0.01\n",
        "# eps_decay = 0.001\n",
        "# target_update = 50\n",
        "# # target_update2 = 25\n",
        "# # target_update3 = 50\n",
        "# memory_size = 5000\n",
        "# lr = 0.001\n",
        "# num_episodes = 1000\n",
        "\n",
        "batch_size = 256\n",
        "gamma = 0.99\n",
        "eps_start = 1\n",
        "eps_end = 0.01\n",
        "eps_decay = 0.001\n",
        "target_update = 10\n",
        "# target_update = 5\n",
        "target_update2 = 5\n",
        "memory_size = 50000\n",
        "lr = 0.001\n",
        "num_episodes = 1500\n",
        "\n",
        "em = CartPoleEnvManager(device)\n",
        "strategy = EpsilonGreedyStrategy(eps_start, eps_end, eps_decay)\n",
        "\n",
        "agent = Agent(strategy, em.num_actions_available(), device)\n",
        "memory = ReplayMemory(memory_size)\n",
        "\n",
        "policy_net = DQN(em.get_screen_height(), em.get_screen_width()).to(device)\n",
        "target_net = DQN(em.get_screen_height(), em.get_screen_width()).to(device)\n",
        "target_net2 = DQN(em.get_screen_height(), em.get_screen_width()).to(device)\n",
        "\n",
        "target_net.load_state_dict(policy_net.state_dict())\n",
        "target_net.eval()\n",
        "\n",
        "target_net2.load_state_dict(policy_net.state_dict())\n",
        "target_net2.eval()\n",
        "\n",
        "optimizer = optim.Adam(params=policy_net.parameters(), lr=lr)\n",
        "\n",
        "episode_durations_tdqn = []\n",
        "\n",
        "#####\n",
        "steps = 0\n",
        "steps_list_tdqn = []\n",
        "#####\n",
        "\n",
        "for episode in range(num_episodes):\n",
        "    em.reset()\n",
        "    state = em.get_state()\n",
        "    for timestep in count():\n",
        "        action = (agent.select_action(state, policy_net)).reshape(1).cuda()\n",
        "        reward = em.take_action(action)\n",
        "        next_state = em.get_state()\n",
        "#         print(action)\n",
        "        memory.push(Experience(state, action, next_state, reward))\n",
        "        state = next_state\n",
        "        if memory.can_provide_sample(batch_size):\n",
        "            experiences = memory.sample(batch_size)\n",
        "            states, actions, rewards, next_states = extract_tensors(experiences)\n",
        "\n",
        "            current_q_values = QValues.get_current(policy_net, states, actions)\n",
        "            next_q_values = QValues.get_next(target_net, next_states, target_net2)\n",
        "            target_q_values = (next_q_values * gamma) + rewards\n",
        "\n",
        "            loss = F.mse_loss(current_q_values, target_q_values.unsqueeze(1))\n",
        "            optimizer.zero_grad()\n",
        "            loss.backward()\n",
        "            optimizer.step()\n",
        "        if em.done:\n",
        "            #####\n",
        "            steps += timestep\n",
        "            steps_list_tdqn.append(steps)\n",
        "            #####\n",
        "\n",
        "            episode_durations_tdqn.append(timestep)\n",
        "            print(steps)\n",
        "            plot(episode_durations_ddqn, 100)\n",
        "            break\n",
        "    if episode % target_update == 0:\n",
        "        target_net.load_state_dict(policy_net.state_dict())\n",
        "    if episode % target_update2 == 0:\n",
        "        target_net2.load_state_dict(policy_net.state_dict())\n",
        "em.close() \n",
        "t2 = tim e.time()"
      ],
      "execution_count": null,
      "outputs": [
        {
          "output_type": "stream",
          "text": [
            "103200\n"
          ],
          "name": "stdout"
        },
        {
          "output_type": "display_data",
          "data": {
            "image/png": "[encoded data removed]",
            "text/plain": [
              "<Figure size 432x288 with 1 Axes>"
            ]
          },
          "metadata": {
            "tags": [],
            "needs_background": "dark"
          }
        },
        {
          "output_type": "stream",
          "text": [
            "Episode 1500 \n",
            " 100 episode moving avg: 79.2\n"
          ],
          "name": "stdout"
        }
      ]
    },
    {
      "cell_type": "code",
      "metadata": {
        "id": "mxkFmlC9cA5D",
        "colab": {
          "base_uri": "https://localhost:8080/"
        },
        "outputId": "9737d1ca-58db-4d92-faa1-c2fe73184924"
      },
      "source": [
        "moving_avg_tdqn = get_moving_average(100, episode_durations_tdqn)\n",
        "print('best duration obtained: ',moving_avg_tdqn.max(),'\\nat episode: ', np.argmax(moving_avg_tdqn))"
      ],
      "execution_count": null,
      "outputs": [
        {
          "output_type": "stream",
          "text": [
            "best duration obtained:  92.29 \n",
            "at episode:  1419\n"
          ],
          "name": "stdout"
        }
      ]
    },
    {
      "cell_type": "code",
      "metadata": {
        "id": "Jj6u-bG9AIuD"
      },
      "source": [
        "# episode_durations_tdqn = episode_durations_ddqn\n",
        "ex_tdqn = t2-t1\n",
        "path_tdqn = '/content/drive/MyDrive/DRL/Cart_CNN/tdqn_scalars.pkl'\n",
        "obj_tdqn = [episode_durations_tdqn,moving_avg_tdqn,ex_tdqn,steps_list_tdqn]\n",
        "f = open(path_tdqn, 'wb')\n",
        "pickle.dump(obj_tdqn, f)\n",
        "f.close()"
      ],
      "execution_count": null,
      "outputs": []
    },
    {
      "cell_type": "code",
      "metadata": {
        "colab": {
          "base_uri": "https://localhost:8080/"
        },
        "id": "Fug3nPsBAIuE",
        "outputId": "2967ee8e-d6af-4fd7-9ec8-d2ca51cde14b"
      },
      "source": [
        "print(ex_tdqn)"
      ],
      "execution_count": null,
      "outputs": [
        {
          "output_type": "stream",
          "text": [
            "2112.061581850052\n"
          ],
          "name": "stdout"
        }
      ]
    },
    {
      "cell_type": "markdown",
      "metadata": {
        "id": "xi5AyX0z9gwd"
      },
      "source": [
        "# Semi-Decoupled:"
      ]
    },
    {
      "cell_type": "code",
      "metadata": {
        "id": "vOLcrdSLZigd",
        "colab": {
          "base_uri": "https://localhost:8080/",
          "height": 348
        },
        "outputId": "2135af4c-e473-45dd-bfef-a29729e955f9"
      },
      "source": [
        "t1 = time.time()\n",
        "class QValues():\n",
        "    device = torch.device(\"cuda\" if torch.cuda.is_available() else \"cpu\")\n",
        "    \n",
        "    @staticmethod\n",
        "    def get_current(policy1, states, actions):\n",
        "        return policy1(states).gather(dim=1, index=actions.unsqueeze(-1))\n",
        "    \n",
        "    @staticmethod        \n",
        "    def get_next(target1, next_states, target2):                \n",
        "        final_state_locations = next_states.flatten(start_dim=1) \\\n",
        "            .max(dim=1)[0].eq(0).type(torch.bool)\n",
        "        non_final_state_locations = (final_state_locations == False)\n",
        "        non_final_states = next_states[non_final_state_locations]\n",
        "        batch_size = next_states.shape[0]\n",
        "        values = torch.zeros(batch_size).to(QValues.device)\n",
        "        \n",
        "        am = target1(non_final_states).max(dim=1)[1] #argmaxes!\n",
        "        qs = target2(non_final_states)\n",
        "        \n",
        "        values[non_final_state_locations] = qs.gather(1, am.reshape(len(am),1)).reshape(len(qs)).detach()\n",
        "        return values\n",
        "\n",
        "batch_size = 256\n",
        "gamma = 0.99\n",
        "eps_start = 1\n",
        "eps_end = 0.01\n",
        "eps_decay = 0.001\n",
        "target_update1 = 10\n",
        "target_update2 = 10\n",
        "memory_size = 50000\n",
        "lr = 0.001\n",
        "num_episodes = 1500\n",
        "\n",
        "em = CartPoleEnvManager(device)\n",
        "strategy = EpsilonGreedyStrategy(eps_start, eps_end, eps_decay)\n",
        "\n",
        "agent = Agent(strategy, em.num_actions_available(), device)\n",
        "memory = ReplayMemory(memory_size)\n",
        "\n",
        "policy1 = DQN(em.get_screen_height(), em.get_screen_width()).to(device)\n",
        "policy2 = DQN(em.get_screen_height(), em.get_screen_width()).to(device)\n",
        "target1 = DQN(em.get_screen_height(), em.get_screen_width()).to(device)\n",
        "target2 = DQN(em.get_screen_height(), em.get_screen_width()).to(device)\n",
        "\n",
        "target1.load_state_dict(policy1.state_dict())\n",
        "target1.eval()\n",
        "\n",
        "target2.load_state_dict(policy2.state_dict())\n",
        "target2.eval()\n",
        "\n",
        "\n",
        "optimizer1 = optim.Adam(params=policy1.parameters(), lr=lr)\n",
        "optimizer2 = optim.Adam(params=policy2.parameters(), lr=lr)\n",
        "\n",
        "\n",
        "episode_durations_sd = []\n",
        "\n",
        "#####\n",
        "steps = 0\n",
        "steps_list_sd = []\n",
        "#####\n",
        "\n",
        "for episode in range(num_episodes):\n",
        "    em.reset()\n",
        "    state = em.get_state()\n",
        "    for timestep in count():\n",
        "        action = (agent.select_action(state, policy1)).reshape(1).cuda()\n",
        "        reward = em.take_action(action)\n",
        "        next_state = em.get_state()\n",
        "#         print(action)\n",
        "        memory.push(Experience(state, action, next_state, reward))\n",
        "        state = next_state\n",
        "        if memory.can_provide_sample(batch_size):\n",
        "            experiences1 = memory.sample(batch_size)\n",
        "            states, actions, rewards, next_states = extract_tensors(experiences1)\n",
        "\n",
        "            current_q_values = QValues.get_current(policy1, states, actions)\n",
        "            next_q_values = QValues.get_next(target1, next_states, target2)\n",
        "            target_q_values = (next_q_values * gamma) + rewards\n",
        "\n",
        "            loss = F.mse_loss(current_q_values, target_q_values.unsqueeze(1))\n",
        "            optimizer1.zero_grad()\n",
        "            loss.backward()\n",
        "            optimizer1.step()\n",
        "            \n",
        "            experiences2 = memory.sample(batch_size)\n",
        "            states, actions, rewards, next_states = extract_tensors(experiences2)\n",
        "\n",
        "            current_q_values = QValues.get_current(policy2, states, actions)\n",
        "            next_q_values = QValues.get_next(target2, next_states, target1)\n",
        "            target_q_values = (next_q_values * gamma) + rewards\n",
        "\n",
        "            loss = F.mse_loss(current_q_values, target_q_values.unsqueeze(1))\n",
        "            optimizer2.zero_grad()\n",
        "            loss.backward()\n",
        "            optimizer2.step()\n",
        "            \n",
        "        if em.done:\n",
        "\n",
        "            #####\n",
        "            steps += timestep\n",
        "            steps_list_sd.append(steps)\n",
        "            #####\n",
        "\n",
        "            episode_durations_sd.append(timestep)\n",
        "            print(steps)\n",
        "            plot(episode_durations_sd, 100)\n",
        "            break\n",
        "    if episode % target_update1 == 0:\n",
        "        target1.load_state_dict(policy1.state_dict())\n",
        "    if episode % target_update2 == 0:\n",
        "        target2.load_state_dict(policy2.state_dict())\n",
        "em.close()\n",
        "t2 = time.time()"
      ],
      "execution_count": null,
      "outputs": [
        {
          "output_type": "stream",
          "text": [
            "124590\n"
          ],
          "name": "stdout"
        },
        {
          "output_type": "display_data",
          "data": {
            "image/png": "[encoded data removed]",
            "text/plain": [
              "<Figure size 432x288 with 1 Axes>"
            ]
          },
          "metadata": {
            "tags": [],
            "needs_background": "dark"
          }
        },
        {
          "output_type": "stream",
          "text": [
            "Episode 1500 \n",
            " 100 episode moving avg: 108.1\n"
          ],
          "name": "stdout"
        }
      ]
    },
    {
      "cell_type": "code",
      "metadata": {
        "id": "LQB7SFwV4pB9",
        "colab": {
          "base_uri": "https://localhost:8080/"
        },
        "outputId": "d7c89d48-c26b-4075-c062-cb098c295ac9"
      },
      "source": [
        "moving_avg_sd = get_moving_average(100, episode_durations_sd)\n",
        "print('best duration obtained: ',moving_avg_sd.max(),'\\nat episode: ', np.argmax(moving_avg_sd))"
      ],
      "execution_count": null,
      "outputs": [
        {
          "output_type": "stream",
          "text": [
            "best duration obtained:  114.97 \n",
            "at episode:  1179\n"
          ],
          "name": "stdout"
        }
      ]
    },
    {
      "cell_type": "code",
      "metadata": {
        "id": "uw1BBqJZF2Xq"
      },
      "source": [
        "ex_sd = t2-t1\n",
        "path_sd = '/content/drive/MyDrive/DRL/Cart_CNN/sd_scalars.pkl'\n",
        "obj_sd = [episode_durations_sd,moving_avg_sd,ex_sd,steps_list_sd]\n",
        "f = open(path_sd, 'wb')\n",
        "pickle.dump(obj_sd, f)\n",
        "f.close()"
      ],
      "execution_count": null,
      "outputs": []
    },
    {
      "cell_type": "code",
      "metadata": {
        "colab": {
          "base_uri": "https://localhost:8080/"
        },
        "id": "KT3jXIGlF2Xr",
        "outputId": "41b4a26a-4ac0-4df6-b1ac-c238816d470d"
      },
      "source": [
        "print(ex_sd)"
      ],
      "execution_count": null,
      "outputs": [
        {
          "output_type": "stream",
          "text": [
            "3977.9142923355103\n"
          ],
          "name": "stdout"
        }
      ]
    },
    {
      "cell_type": "markdown",
      "metadata": {
        "id": "ST6Yftwb9lrM"
      },
      "source": [
        "# Fully-Decoupled:"
      ]
    },
    {
      "cell_type": "code",
      "metadata": {
        "id": "o0uxg5KNZs_T",
        "colab": {
          "base_uri": "https://localhost:8080/",
          "height": 348
        },
        "outputId": "ec8a9050-e60a-47cd-9ecf-d51bb8bffb6d"
      },
      "source": [
        "t1 = time.time()\n",
        "class QValues():\n",
        "    device = torch.device(\"cuda\" if torch.cuda.is_available() else \"cpu\")\n",
        "    \n",
        "    @staticmethod\n",
        "    def get_current(policy1, states, actions):\n",
        "        return policy1(states).gather(dim=1, index=actions.unsqueeze(-1))\n",
        "    \n",
        "    @staticmethod        \n",
        "    def get_next(target1, next_states, target2):                \n",
        "        final_state_locations = next_states.flatten(start_dim=1) \\\n",
        "            .max(dim=1)[0].eq(0).type(torch.bool)\n",
        "        non_final_state_locations = (final_state_locations == False)\n",
        "        non_final_states = next_states[non_final_state_locations]\n",
        "        batch_size = next_states.shape[0]\n",
        "        values = torch.zeros(batch_size).to(QValues.device)\n",
        "        \n",
        "        am = target1(non_final_states).max(dim=1)[1] #argmaxes!\n",
        "        qs = target2(non_final_states)\n",
        "        \n",
        "        values[non_final_state_locations] = qs.gather(1, am.reshape(len(am),1)).reshape(len(qs)).detach()\n",
        "        return values\n",
        "\n",
        "batch_size = 256\n",
        "gamma = 0.99\n",
        "eps_start = 1\n",
        "eps_end = 0.01\n",
        "eps_decay = 0.001\n",
        "target_update1 = 10\n",
        "target_update2 = 10\n",
        "target_update3 = 10\n",
        "memory_size = 50000\n",
        "lr = 0.001\n",
        "num_episodes = 1500\n",
        "\n",
        "em = CartPoleEnvManager(device)\n",
        "strategy = EpsilonGreedyStrategy(eps_start, eps_end, eps_decay)\n",
        "\n",
        "agent = Agent(strategy, em.num_actions_available(), device)\n",
        "memory = ReplayMemory(memory_size)\n",
        "\n",
        "policy1 = DQN(em.get_screen_height(), em.get_screen_width()).to(device)\n",
        "policy2 = DQN(em.get_screen_height(), em.get_screen_width()).to(device)\n",
        "policy3 = DQN(em.get_screen_height(), em.get_screen_width()).to(device)\n",
        "\n",
        "target1 = DQN(em.get_screen_height(), em.get_screen_width()).to(device)\n",
        "target2 = DQN(em.get_screen_height(), em.get_screen_width()).to(device)\n",
        "target3 = DQN(em.get_screen_height(), em.get_screen_width()).to(device)\n",
        "\n",
        "target1.load_state_dict(policy1.state_dict())\n",
        "target1.eval()\n",
        "\n",
        "target2.load_state_dict(policy2.state_dict())\n",
        "target2.eval()\n",
        "\n",
        "target3.load_state_dict(policy3.state_dict())\n",
        "target3.eval()\n",
        "\n",
        "\n",
        "optimizer1 = optim.Adam(params=policy1.parameters(), lr=lr)\n",
        "optimizer2 = optim.Adam(params=policy2.parameters(), lr=lr)\n",
        "optimizer3 = optim.Adam(params=policy3.parameters(), lr=lr)\n",
        "\n",
        "\n",
        "episode_durations_fd = []\n",
        "\n",
        "#####\n",
        "steps = 0\n",
        "steps_list_fd = []\n",
        "#####\n",
        "\n",
        "for episode in range(num_episodes):\n",
        "    em.reset()\n",
        "    state = em.get_state()\n",
        "    for timestep in count():\n",
        "        action = (agent.select_action(state, policy1)).reshape(1).cuda()\n",
        "        reward = em.take_action(action)\n",
        "        next_state = em.get_state()\n",
        "#         print(action)\n",
        "        memory.push(Experience(state, action, next_state, reward))\n",
        "        state = next_state\n",
        "        if memory.can_provide_sample(batch_size):\n",
        "            experiences1 = memory.sample(batch_size)\n",
        "            states, actions, rewards, next_states = extract_tensors(experiences1)\n",
        "\n",
        "            current_q_values = QValues.get_current(policy1, states, actions)\n",
        "            next_q_values = QValues.get_next(target2, next_states, target3)\n",
        "            target_q_values = (next_q_values * gamma) + rewards\n",
        "\n",
        "            loss = F.mse_loss(current_q_values, target_q_values.unsqueeze(1))\n",
        "            optimizer1.zero_grad()\n",
        "            loss.backward()\n",
        "            optimizer1.step()\n",
        "            \n",
        "            experiences2 = memory.sample(batch_size)\n",
        "            states, actions, rewards, next_states = extract_tensors(experiences2)\n",
        "\n",
        "            current_q_values = QValues.get_current(policy2, states, actions)\n",
        "            next_q_values = QValues.get_next(target3, next_states, target1)\n",
        "            target_q_values = (next_q_values * gamma) + rewards\n",
        "\n",
        "            loss = F.mse_loss(current_q_values, target_q_values.unsqueeze(1))\n",
        "            optimizer2.zero_grad()\n",
        "            loss.backward()\n",
        "            optimizer2.step()\n",
        "\n",
        "            experiences3 = memory.sample(batch_size)\n",
        "            states, actions, rewards, next_states = extract_tensors(experiences3)\n",
        "\n",
        "            current_q_values = QValues.get_current(policy3, states, actions)\n",
        "            next_q_values = QValues.get_next(target1, next_states, target2)\n",
        "            target_q_values = (next_q_values * gamma) + rewards\n",
        "\n",
        "            loss = F.mse_loss(current_q_values, target_q_values.unsqueeze(1))\n",
        "            optimizer3.zero_grad()\n",
        "            loss.backward()\n",
        "            optimizer3.step()\n",
        "\n",
        "\n",
        "        if em.done:\n",
        "\n",
        "            #####\n",
        "            steps += timestep\n",
        "            steps_list_fd.append(steps)\n",
        "            #####\n",
        "\n",
        "            episode_durations_fd.append(timestep)\n",
        "            print(steps)\n",
        "            plot(episode_durations_fd, 100)\n",
        "            break\n",
        "    if episode % target_update1 == 0:\n",
        "        target1.load_state_dict(policy1.state_dict())\n",
        "    if episode % target_update2 == 0:\n",
        "        target2.load_state_dict(policy2.state_dict())\n",
        "    if episode % target_update3 == 0:\n",
        "        target3.load_state_dict(policy3.state_dict())\n",
        "em.close()\n",
        "t2 = time.time()"
      ],
      "execution_count": null,
      "outputs": [
        {
          "output_type": "stream",
          "text": [
            "118646\n"
          ],
          "name": "stdout"
        },
        {
          "output_type": "display_data",
          "data": {
            "image/png": "[encoded data removed]",
            "text/plain": [
              "<Figure size 432x288 with 1 Axes>"
            ]
          },
          "metadata": {
            "tags": [],
            "needs_background": "dark"
          }
        },
        {
          "output_type": "stream",
          "text": [
            "Episode 1500 \n",
            " 100 episode moving avg: 109.13\n"
          ],
          "name": "stdout"
        }
      ]
    },
    {
      "cell_type": "code",
      "metadata": {
        "id": "sh4k1xwv4vkZ",
        "colab": {
          "base_uri": "https://localhost:8080/"
        },
        "outputId": "7a8baf7b-23fa-492d-9e6a-40a00aa3c026"
      },
      "source": [
        "moving_avg_fd = get_moving_average(100, episode_durations_fd)\n",
        "print('best duration obtained: ',moving_avg_fd.max(),'\\nat episode: ', np.argmax(moving_avg_fd))"
      ],
      "execution_count": null,
      "outputs": [
        {
          "output_type": "stream",
          "text": [
            "best duration obtained:  114.14 \n",
            "at episode:  1347\n"
          ],
          "name": "stdout"
        }
      ]
    },
    {
      "cell_type": "code",
      "metadata": {
        "id": "C9XyYIYXGdIl"
      },
      "source": [
        "ex_fd = t2-t1\n",
        "path_fd = '/content/drive/MyDrive/DRL/Cart_CNN/fd_scalars.pkl'\n",
        "obj_fd = [episode_durations_fd,moving_avg_fd,ex_fd,steps_list_fd]\n",
        "f = open(path_fd, 'wb')\n",
        "pickle.dump(obj_fd, f)\n",
        "f.close()"
      ],
      "execution_count": null,
      "outputs": []
    },
    {
      "cell_type": "code",
      "metadata": {
        "colab": {
          "base_uri": "https://localhost:8080/"
        },
        "id": "YsHgxuwbGdIl",
        "outputId": "343630d4-0c70-4355-8898-d064ead8ec7e"
      },
      "source": [
        "print(ex_fd)"
      ],
      "execution_count": null,
      "outputs": [
        {
          "output_type": "stream",
          "text": [
            "5277.149209976196\n"
          ],
          "name": "stdout"
        }
      ]
    },
    {
      "cell_type": "code",
      "metadata": {
        "id": "prM2D3y-EtJn"
      },
      "source": [
        "f = open(path_fd, 'rb')\n",
        "obj = pickle.load(f)\n",
        "f.close()"
      ],
      "execution_count": null,
      "outputs": []
    },
    {
      "cell_type": "code",
      "metadata": {
        "colab": {
          "base_uri": "https://localhost:8080/",
          "height": 331
        },
        "id": "bicUlQPtEx0A",
        "outputId": "98e03d5c-180b-455a-9b29-08bb4979dfd4"
      },
      "source": [
        "plot(obj[0], 100)"
      ],
      "execution_count": null,
      "outputs": [
        {
          "output_type": "display_data",
          "data": {
            "image/png": "[encoded data removed]",
            "text/plain": [
              "<Figure size 432x288 with 1 Axes>"
            ]
          },
          "metadata": {
            "tags": [],
            "needs_background": "dark"
          }
        },
        {
          "output_type": "stream",
          "text": [
            "Episode 1500 \n",
            " 100 episode moving avg: 109.13\n"
          ],
          "name": "stdout"
        }
      ]
    },
    {
      "cell_type": "markdown",
      "metadata": {
        "id": "t99w__SSeatL"
      },
      "source": [
        "# Complementaries:"
      ]
    },
    {
      "cell_type": "markdown",
      "metadata": {
        "id": "ihCrf6WUe1gN"
      },
      "source": [
        "## save notebook:"
      ]
    },
    {
      "cell_type": "code",
      "metadata": {
        "id": "gn0lSd_OecfJ"
      },
      "source": [
        "# pip install dill\n",
        "\n",
        "# import dill\n",
        "# dill.dump_session('notebook_env.db')\n",
        "\n",
        "# dill.load_session('notebook_env.db')"
      ],
      "execution_count": null,
      "outputs": []
    },
    {
      "cell_type": "markdown",
      "metadata": {
        "id": "xudbg663e950"
      },
      "source": [
        "## save variables:"
      ]
    },
    {
      "cell_type": "code",
      "metadata": {
        "id": "9hPsFat0e_vL"
      },
      "source": [
        "# import pickle\n",
        "\n",
        "# f = open('store.pkl', 'wb')\n",
        "# pickle.dump(obj, f)\n",
        "# f.close()\n",
        "\n",
        "# f = open('store.pkl', 'rb')\n",
        "# obj = pickle.load(f)\n",
        "# f.close()\n",
        "##############################\n",
        "# import pickle\n",
        "\n",
        "# # obj0, obj1, obj2 are created here...\n",
        "\n",
        "# # Saving the objects:\n",
        "# with open('objs.pkl', 'w') as f:  # Python 3: open(..., 'wb')\n",
        "#     pickle.dump([obj0, obj1, obj2], f)\n",
        "\n",
        "# # Getting back the objects:\n",
        "# with open('objs.pkl') as f:  # Python 3: open(..., 'rb')\n",
        "#     obj0, obj1, obj2 = pickle.load(f)"
      ],
      "execution_count": null,
      "outputs": []
    },
    {
      "cell_type": "markdown",
      "metadata": {
        "id": "6yQAtlmDfAtY"
      },
      "source": [
        "### Tesnsorboard:"
      ]
    },
    {
      "cell_type": "code",
      "metadata": {
        "id": "bYEBj4_jfAKr"
      },
      "source": [
        "# try:\n",
        "#   %tensorflow_version 2.x\n",
        "#   %load_ext tensorboard\n",
        "# except:\n",
        "#   pass\n",
        "\n",
        "####################33\n",
        "\n",
        "# %tensorboard --logdir 'logs'"
      ],
      "execution_count": null,
      "outputs": []
    },
    {
      "cell_type": "markdown",
      "metadata": {
        "id": "_REM3jRjgh0T"
      },
      "source": [
        "## Tensorboard/Pytorch:"
      ]
    },
    {
      "cell_type": "code",
      "metadata": {
        "id": "Z26mCKvcgmvz"
      },
      "source": [
        "# from torch.utils.tensorboard import SummaryWriter\n",
        "# tb = SummaryWriter(log_dir = '')\n",
        "# tb.add_scalar('Loss', total_loss, epoch)\n",
        "# tensorboard --logdir=runs\n",
        "# http://localhost:6006"
      ],
      "execution_count": null,
      "outputs": []
    },
    {
      "cell_type": "markdown",
      "metadata": {
        "id": "tEDHqIl0gXEJ"
      },
      "source": [
        "## Execution Time:"
      ]
    },
    {
      "cell_type": "code",
      "metadata": {
        "id": "P1X31jDdgasn"
      },
      "source": [
        "# import time\n",
        "# t1 = time.time()\n",
        "# t2 = time.time()\n",
        "# print(t2-t1)"
      ],
      "execution_count": null,
      "outputs": []
    }
  ]
}